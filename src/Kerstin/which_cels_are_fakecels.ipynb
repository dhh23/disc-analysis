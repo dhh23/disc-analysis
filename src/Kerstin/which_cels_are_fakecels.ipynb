{
 "cells": [
  {
   "cell_type": "markdown",
   "id": "e84bc1f4",
   "metadata": {},
   "source": [
    "Trying to fetch all occurrences of '...cels are fakecels', get the unique mentionings and the counts"
   ]
  },
  {
   "cell_type": "code",
   "execution_count": null,
   "id": "bbb634e4",
   "metadata": {},
   "outputs": [],
   "source": [
    "%load_ext autoreload\n",
    "%autoreload 2"
   ]
  },
  {
   "cell_type": "code",
   "execution_count": null,
   "id": "0c2bf2f7",
   "metadata": {},
   "outputs": [],
   "source": [
    "from hereutil import here, add_to_sys_path\n",
    "add_to_sys_path(here())"
   ]
  },
  {
   "cell_type": "code",
   "execution_count": null,
   "id": "e920b41e",
   "metadata": {},
   "outputs": [],
   "source": [
    "from src.common_basis import *"
   ]
  },
  {
   "cell_type": "code",
   "execution_count": null,
   "id": "ca934e02",
   "metadata": {},
   "outputs": [],
   "source": [
    "from src.umit.cleanup_data import *"
   ]
  },
  {
   "cell_type": "code",
   "execution_count": null,
   "id": "83161b8d",
   "metadata": {},
   "outputs": [],
   "source": [
    "from src.umit.fakecel_truecel import *"
   ]
  },
  {
   "cell_type": "code",
   "execution_count": null,
   "id": "b981a3ee",
   "metadata": {},
   "outputs": [],
   "source": [
    "fakecel_df = sample_threads_from_df(df2, 100000, \"fakecel\")"
   ]
  },
  {
   "cell_type": "code",
   "execution_count": null,
   "id": "05a7074d",
   "metadata": {},
   "outputs": [],
   "source": [
    "print(f'Length of fakecel_df: {len(fakecel_df)}')\n",
    "fakecel_df.head()"
   ]
  },
  {
   "cell_type": "code",
   "execution_count": null,
   "id": "351c651b",
   "metadata": {},
   "outputs": [],
   "source": [
    "fakecel_sentences = fakecel_df[fakecel_df['post_content'].str.contains(r'(\\b.*cel(s)? (is|are) fakecel)')]\n",
    "print(f'Length of posts that contain the sentence \"...cels is/are fakecel\": {len(fakecel_sentences)}')"
   ]
  },
  {
   "cell_type": "code",
   "execution_count": null,
   "id": "cf35b5f0",
   "metadata": {},
   "outputs": [],
   "source": [
    "cels = pd.read_csv('/mnt/c/Users/kerst/disc-analysis/data/output/jiemakel/cels.tsv', sep='\\t')\n",
    "cel_list = cels['cel'].values.tolist()\n",
    "print('Number of all different \"cels\": {len(cel_list)}')"
   ]
  },
  {
   "cell_type": "code",
   "execution_count": null,
   "id": "8a910a0b",
   "metadata": {},
   "outputs": [],
   "source": [
    "fakecel_sentences['post_content_str'] = fakecel_sentences['post_content'].astype('string')\n",
    "cels_mentioned = fakecel_sentences['post_content_str'].str.extract('({})'.format('|'.join(cel_list)))\n",
    "cels_mentioned_list = cels_mentioned[0].unique().tolist()\n",
    "print(f'This is the list of cels that are described as fakecels in the forum: {cels_mentioned_list}')"
   ]
  }
 ],
 "metadata": {
  "kernelspec": {
   "display_name": "Python 3 (ipykernel)",
   "language": "python",
   "name": "python3"
  },
  "language_info": {
   "codemirror_mode": {
    "name": "ipython",
    "version": 3
   },
   "file_extension": ".py",
   "mimetype": "text/x-python",
   "name": "python",
   "nbconvert_exporter": "python",
   "pygments_lexer": "ipython3",
   "version": "3.11.3"
  }
 },
 "nbformat": 4,
 "nbformat_minor": 5
}
