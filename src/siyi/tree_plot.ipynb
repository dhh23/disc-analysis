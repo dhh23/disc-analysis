{
 "cells": [
  {
   "cell_type": "code",
   "execution_count": 1,
   "outputs": [],
   "source": [
    "%load_ext autoreload\n",
    "%autoreload 2"
   ],
   "metadata": {
    "collapsed": false,
    "ExecuteTime": {
     "end_time": "2023-06-01T15:08:44.212654Z",
     "start_time": "2023-06-01T15:08:44.197731Z"
    }
   }
  },
  {
   "cell_type": "code",
   "execution_count": 39,
   "outputs": [
    {
     "name": "stdout",
     "output_type": "stream",
     "text": [
      "Requirement already satisfied: ete3 in /Users/siyi/opt/anaconda3/envs/disc-analysis/lib/python3.11/site-packages (3.1.3)\r\n"
     ]
    }
   ],
   "source": [
    "from hereutil import here, add_to_sys_path\n",
    "import pandas as pd\n",
    "import matplotlib.pyplot as plt\n",
    "import seaborn as sns\n",
    "add_to_sys_path(here())\n",
    "from src.common_basis import *\n",
    "from ete3 import Tree"
   ],
   "metadata": {
    "collapsed": false,
    "ExecuteTime": {
     "end_time": "2023-06-02T08:45:49.206082Z",
     "start_time": "2023-06-02T08:45:46.887837Z"
    }
   }
  },
  {
   "cell_type": "code",
   "execution_count": 35,
   "outputs": [],
   "source": [
    "i = load_incel_parquet()"
   ],
   "metadata": {
    "collapsed": false,
    "ExecuteTime": {
     "end_time": "2023-06-02T08:35:44.386336Z",
     "start_time": "2023-06-02T08:35:40.813886Z"
    }
   }
  },
  {
   "cell_type": "code",
   "execution_count": 5,
   "outputs": [],
   "source": [],
   "metadata": {
    "collapsed": false,
    "ExecuteTime": {
     "end_time": "2023-06-02T08:27:23.072268Z",
     "start_time": "2023-06-02T08:27:23.060892Z"
    }
   }
  },
  {
   "cell_type": "code",
   "execution_count": 6,
   "outputs": [
    {
     "data": {
      "text/plain": "         post_id    post_id_str  poster_id          time_posted   \n322          501   post-1541099        187  2018-10-10 22:37:36  \\\n459          685   post-5611991        270  2020-10-04 02:15:50   \n505          758   post-3663856        298  2020-01-17 16:02:46   \n651          498   post-1541075        184  2018-10-10 22:34:32   \n871          674  post-10001009        266  2022-11-06 08:06:18   \n...          ...            ...        ...                  ...   \n2265558  2265288   post-3767133       1154  2020-02-04 06:32:55   \n2265559  2265290   post-3767151        560  2020-02-04 06:40:01   \n2265843  2265775    post-641548        549  2018-04-16 18:30:54   \n2265844  2265776    post-641563        148  2018-04-16 18:32:54   \n2265987  2265982   post-2033864        432  2019-01-24 04:34:29   \n\n                                              post_content   \n322      03:37. The clock ticks on and the fakecels slu...  \\\n459      Yep, you can tell who the fakecels are by thei...   \n505          Anyone who goes out on weekends is a fakecel.   \n651      all the chads and larpers sleeping now i knew ...   \n871      \n\nBetrayed said:\n\n\n\n16\n\nClick to expand...\n\nbt...   \n...                                                    ...   \n2265558  I just wish they wouldn't immedianlty assume y...   \n2265559  \n\nJohnWickCel said:\n\n\n\nI just wish they wouldn...   \n2265843  \n\nLonelyvirgin said:\n\n\n\nAnyone who spends a lo...   \n2265844  \n\nWorldRulerAisha said:\n\n\n\ntell that to the fa...   \n2265987  Yes and no.\n\nYes because his posts can be ente...   \n\n                                                 post_html  thread_id   \n322      <div class=\"message-content js-messageContent\"...         28  \\\n459      <div class=\"message-content js-messageContent\"...         41   \n505      <div class=\"message-content js-messageContent\"...         44   \n651      <div class=\"message-content js-messageContent\"...         28   \n871      <div class=\"message-content js-messageContent\"...         39   \n...                                                    ...        ...   \n2265558  <div class=\"message-content js-messageContent\"...     125876   \n2265559  <div class=\"message-content js-messageContent\"...     125876   \n2265843  <div class=\"message-content js-messageContent\"...     125916   \n2265844  <div class=\"message-content js-messageContent\"...     125916   \n2265987  <div class=\"message-content js-messageContent\"...     125920   \n\n         post_order_in_thread  \n322                         4  \n459                         2  \n505                        18  \n651                         1  \n871                        21  \n...                       ...  \n2265558                    48  \n2265559                    50  \n2265843                    37  \n2265844                    38  \n2265987                    58  \n\n[11432 rows x 8 columns]",
      "text/html": "<div>\n<style scoped>\n    .dataframe tbody tr th:only-of-type {\n        vertical-align: middle;\n    }\n\n    .dataframe tbody tr th {\n        vertical-align: top;\n    }\n\n    .dataframe thead th {\n        text-align: right;\n    }\n</style>\n<table border=\"1\" class=\"dataframe\">\n  <thead>\n    <tr style=\"text-align: right;\">\n      <th></th>\n      <th>post_id</th>\n      <th>post_id_str</th>\n      <th>poster_id</th>\n      <th>time_posted</th>\n      <th>post_content</th>\n      <th>post_html</th>\n      <th>thread_id</th>\n      <th>post_order_in_thread</th>\n    </tr>\n  </thead>\n  <tbody>\n    <tr>\n      <th>322</th>\n      <td>501</td>\n      <td>post-1541099</td>\n      <td>187</td>\n      <td>2018-10-10 22:37:36</td>\n      <td>03:37. The clock ticks on and the fakecels slu...</td>\n      <td>&lt;div class=\"message-content js-messageContent\"...</td>\n      <td>28</td>\n      <td>4</td>\n    </tr>\n    <tr>\n      <th>459</th>\n      <td>685</td>\n      <td>post-5611991</td>\n      <td>270</td>\n      <td>2020-10-04 02:15:50</td>\n      <td>Yep, you can tell who the fakecels are by thei...</td>\n      <td>&lt;div class=\"message-content js-messageContent\"...</td>\n      <td>41</td>\n      <td>2</td>\n    </tr>\n    <tr>\n      <th>505</th>\n      <td>758</td>\n      <td>post-3663856</td>\n      <td>298</td>\n      <td>2020-01-17 16:02:46</td>\n      <td>Anyone who goes out on weekends is a fakecel.</td>\n      <td>&lt;div class=\"message-content js-messageContent\"...</td>\n      <td>44</td>\n      <td>18</td>\n    </tr>\n    <tr>\n      <th>651</th>\n      <td>498</td>\n      <td>post-1541075</td>\n      <td>184</td>\n      <td>2018-10-10 22:34:32</td>\n      <td>all the chads and larpers sleeping now i knew ...</td>\n      <td>&lt;div class=\"message-content js-messageContent\"...</td>\n      <td>28</td>\n      <td>1</td>\n    </tr>\n    <tr>\n      <th>871</th>\n      <td>674</td>\n      <td>post-10001009</td>\n      <td>266</td>\n      <td>2022-11-06 08:06:18</td>\n      <td>Betrayed said:\n\n\n\n16\n\nClick to expand...\n\nbt...</td>\n      <td>&lt;div class=\"message-content js-messageContent\"...</td>\n      <td>39</td>\n      <td>21</td>\n    </tr>\n    <tr>\n      <th>...</th>\n      <td>...</td>\n      <td>...</td>\n      <td>...</td>\n      <td>...</td>\n      <td>...</td>\n      <td>...</td>\n      <td>...</td>\n      <td>...</td>\n    </tr>\n    <tr>\n      <th>2265558</th>\n      <td>2265288</td>\n      <td>post-3767133</td>\n      <td>1154</td>\n      <td>2020-02-04 06:32:55</td>\n      <td>I just wish they wouldn't immedianlty assume y...</td>\n      <td>&lt;div class=\"message-content js-messageContent\"...</td>\n      <td>125876</td>\n      <td>48</td>\n    </tr>\n    <tr>\n      <th>2265559</th>\n      <td>2265290</td>\n      <td>post-3767151</td>\n      <td>560</td>\n      <td>2020-02-04 06:40:01</td>\n      <td>JohnWickCel said:\n\n\n\nI just wish they wouldn...</td>\n      <td>&lt;div class=\"message-content js-messageContent\"...</td>\n      <td>125876</td>\n      <td>50</td>\n    </tr>\n    <tr>\n      <th>2265843</th>\n      <td>2265775</td>\n      <td>post-641548</td>\n      <td>549</td>\n      <td>2018-04-16 18:30:54</td>\n      <td>Lonelyvirgin said:\n\n\n\nAnyone who spends a lo...</td>\n      <td>&lt;div class=\"message-content js-messageContent\"...</td>\n      <td>125916</td>\n      <td>37</td>\n    </tr>\n    <tr>\n      <th>2265844</th>\n      <td>2265776</td>\n      <td>post-641563</td>\n      <td>148</td>\n      <td>2018-04-16 18:32:54</td>\n      <td>WorldRulerAisha said:\n\n\n\ntell that to the fa...</td>\n      <td>&lt;div class=\"message-content js-messageContent\"...</td>\n      <td>125916</td>\n      <td>38</td>\n    </tr>\n    <tr>\n      <th>2265987</th>\n      <td>2265982</td>\n      <td>post-2033864</td>\n      <td>432</td>\n      <td>2019-01-24 04:34:29</td>\n      <td>Yes and no.\n\nYes because his posts can be ente...</td>\n      <td>&lt;div class=\"message-content js-messageContent\"...</td>\n      <td>125920</td>\n      <td>58</td>\n    </tr>\n  </tbody>\n</table>\n<p>11432 rows × 8 columns</p>\n</div>"
     },
     "execution_count": 6,
     "metadata": {},
     "output_type": "execute_result"
    }
   ],
   "source": [],
   "metadata": {
    "collapsed": false,
    "ExecuteTime": {
     "end_time": "2023-06-02T08:27:27.967985Z",
     "start_time": "2023-06-02T08:27:24.432618Z"
    }
   }
  },
  {
   "cell_type": "code",
   "execution_count": 7,
   "outputs": [
    {
     "data": {
      "text/plain": "        quoted_post_id                                    quoting_post_id\n0                    0  [10, 55, 132, 134, 135, 136, 152, 242, 248, 25...\n1                    1                                                [7]\n2                    4                                                [5]\n3                   10                                               [11]\n4                   11                                           [12, 14]\n...                ...                                                ...\n804784         2265970                                          [2265971]\n804785         2265971                                          [2265973]\n804786         2265972                                          [2265975]\n804787         2265983                                 [2265984, 2265986]\n804788         2265984                                          [2265985]\n\n[804789 rows x 2 columns]",
      "text/html": "<div>\n<style scoped>\n    .dataframe tbody tr th:only-of-type {\n        vertical-align: middle;\n    }\n\n    .dataframe tbody tr th {\n        vertical-align: top;\n    }\n\n    .dataframe thead th {\n        text-align: right;\n    }\n</style>\n<table border=\"1\" class=\"dataframe\">\n  <thead>\n    <tr style=\"text-align: right;\">\n      <th></th>\n      <th>quoted_post_id</th>\n      <th>quoting_post_id</th>\n    </tr>\n  </thead>\n  <tbody>\n    <tr>\n      <th>0</th>\n      <td>0</td>\n      <td>[10, 55, 132, 134, 135, 136, 152, 242, 248, 25...</td>\n    </tr>\n    <tr>\n      <th>1</th>\n      <td>1</td>\n      <td>[7]</td>\n    </tr>\n    <tr>\n      <th>2</th>\n      <td>4</td>\n      <td>[5]</td>\n    </tr>\n    <tr>\n      <th>3</th>\n      <td>10</td>\n      <td>[11]</td>\n    </tr>\n    <tr>\n      <th>4</th>\n      <td>11</td>\n      <td>[12, 14]</td>\n    </tr>\n    <tr>\n      <th>...</th>\n      <td>...</td>\n      <td>...</td>\n    </tr>\n    <tr>\n      <th>804784</th>\n      <td>2265970</td>\n      <td>[2265971]</td>\n    </tr>\n    <tr>\n      <th>804785</th>\n      <td>2265971</td>\n      <td>[2265973]</td>\n    </tr>\n    <tr>\n      <th>804786</th>\n      <td>2265972</td>\n      <td>[2265975]</td>\n    </tr>\n    <tr>\n      <th>804787</th>\n      <td>2265983</td>\n      <td>[2265984, 2265986]</td>\n    </tr>\n    <tr>\n      <th>804788</th>\n      <td>2265984</td>\n      <td>[2265985]</td>\n    </tr>\n  </tbody>\n</table>\n<p>804789 rows × 2 columns</p>\n</div>"
     },
     "execution_count": 7,
     "metadata": {},
     "output_type": "execute_result"
    }
   ],
   "source": [],
   "metadata": {
    "collapsed": false,
    "ExecuteTime": {
     "end_time": "2023-06-02T08:27:49.689016Z",
     "start_time": "2023-06-02T08:27:30.161627Z"
    }
   }
  },
  {
   "cell_type": "code",
   "execution_count": 8,
   "outputs": [
    {
     "data": {
      "text/plain": "      thread_id                                       thread_title   \n590       17947                           @Colvin exposed himself   \\\n2251      60945                            Incels.co's \"Mad Dogs\"    \n3138      86408       Prior signs of Insomniac of being a fakecel    \n2417      64588  its actually insane how many people i called a...   \n4078     112495                  What HAPPENED To these users ???    \n...         ...                                                ...   \n2370      63737                 Is twerking  just a nigger thing?    \n2371      63750                Is using a condom make you a beta?    \n3289      91468       SCREW JBW AND BCC, JUST BE CURRY IS SUPREME    \n3288      91446                                     Scott Beierle    \n4691     125920                                             zyros    \n\n     thread_label                                         thread_url   \n590           JFL  https://incels.is/threads/colvin-exposed-himse...  \\\n2251       Theory  https://incels.is/threads/incels-cos-mad-dogs....   \n3138   Discussion  https://incels.is/threads/prior-signs-of-insom...   \n2417      Serious  https://incels.is/threads/its-actually-insane-...   \n4078         <NA>  https://incels.is/threads/what-happened-to-the...   \n...           ...                                                ...   \n2370         <NA>  https://incels.is/threads/is-twerking-just-a-n...   \n2371         <NA>  https://incels.is/threads/is-using-a-condom-ma...   \n3289    It's Over  https://incels.is/threads/screw-jbw-and-bcc-ju...   \n3288         News     https://incels.is/threads/scott-beierle.87808/   \n4691         <NA>            https://incels.is/threads/zyros.102890/   \n\n     earliest_time_posted   latest_time_posted  posts  number_fakecel   \n590   2021-02-13 09:11:06  2021-02-17 19:35:08    168              41  \\\n2251  2020-10-31 08:47:43  2020-11-04 15:38:56     78              35   \n3138  2019-10-17 04:38:48  2019-10-18 21:38:37    111              34   \n2417  2019-07-14 15:33:07  2019-07-15 12:10:11     85              32   \n4078  2018-04-06 01:13:35  2018-05-11 15:50:32    187              32   \n...                   ...                  ...    ...             ...   \n2370  2022-07-12 15:10:11  2022-07-12 18:11:22      8               1   \n2371  2020-04-11 14:37:39  2020-04-17 22:57:49     35               1   \n3289  2020-05-05 03:20:25  2020-05-06 01:08:02     62               1   \n3288  2018-11-08 23:40:47  2018-11-08 23:54:21      8               1   \n4691  2019-01-22 11:04:24  2019-01-24 08:48:24     62               1   \n\n      percent_fakecel  \n590          0.244048  \n2251         0.448718  \n3138         0.306306  \n2417         0.376471  \n4078         0.171123  \n...               ...  \n2370         0.125000  \n2371         0.028571  \n3289         0.016129  \n3288         0.125000  \n4691         0.016129  \n\n[4692 rows x 9 columns]",
      "text/html": "<div>\n<style scoped>\n    .dataframe tbody tr th:only-of-type {\n        vertical-align: middle;\n    }\n\n    .dataframe tbody tr th {\n        vertical-align: top;\n    }\n\n    .dataframe thead th {\n        text-align: right;\n    }\n</style>\n<table border=\"1\" class=\"dataframe\">\n  <thead>\n    <tr style=\"text-align: right;\">\n      <th></th>\n      <th>thread_id</th>\n      <th>thread_title</th>\n      <th>thread_label</th>\n      <th>thread_url</th>\n      <th>earliest_time_posted</th>\n      <th>latest_time_posted</th>\n      <th>posts</th>\n      <th>number_fakecel</th>\n      <th>percent_fakecel</th>\n    </tr>\n  </thead>\n  <tbody>\n    <tr>\n      <th>590</th>\n      <td>17947</td>\n      <td>@Colvin exposed himself</td>\n      <td>JFL</td>\n      <td>https://incels.is/threads/colvin-exposed-himse...</td>\n      <td>2021-02-13 09:11:06</td>\n      <td>2021-02-17 19:35:08</td>\n      <td>168</td>\n      <td>41</td>\n      <td>0.244048</td>\n    </tr>\n    <tr>\n      <th>2251</th>\n      <td>60945</td>\n      <td>Incels.co's \"Mad Dogs\"</td>\n      <td>Theory</td>\n      <td>https://incels.is/threads/incels-cos-mad-dogs....</td>\n      <td>2020-10-31 08:47:43</td>\n      <td>2020-11-04 15:38:56</td>\n      <td>78</td>\n      <td>35</td>\n      <td>0.448718</td>\n    </tr>\n    <tr>\n      <th>3138</th>\n      <td>86408</td>\n      <td>Prior signs of Insomniac of being a fakecel</td>\n      <td>Discussion</td>\n      <td>https://incels.is/threads/prior-signs-of-insom...</td>\n      <td>2019-10-17 04:38:48</td>\n      <td>2019-10-18 21:38:37</td>\n      <td>111</td>\n      <td>34</td>\n      <td>0.306306</td>\n    </tr>\n    <tr>\n      <th>2417</th>\n      <td>64588</td>\n      <td>its actually insane how many people i called a...</td>\n      <td>Serious</td>\n      <td>https://incels.is/threads/its-actually-insane-...</td>\n      <td>2019-07-14 15:33:07</td>\n      <td>2019-07-15 12:10:11</td>\n      <td>85</td>\n      <td>32</td>\n      <td>0.376471</td>\n    </tr>\n    <tr>\n      <th>4078</th>\n      <td>112495</td>\n      <td>What HAPPENED To these users ???</td>\n      <td>&lt;NA&gt;</td>\n      <td>https://incels.is/threads/what-happened-to-the...</td>\n      <td>2018-04-06 01:13:35</td>\n      <td>2018-05-11 15:50:32</td>\n      <td>187</td>\n      <td>32</td>\n      <td>0.171123</td>\n    </tr>\n    <tr>\n      <th>...</th>\n      <td>...</td>\n      <td>...</td>\n      <td>...</td>\n      <td>...</td>\n      <td>...</td>\n      <td>...</td>\n      <td>...</td>\n      <td>...</td>\n      <td>...</td>\n    </tr>\n    <tr>\n      <th>2370</th>\n      <td>63737</td>\n      <td>Is twerking  just a nigger thing?</td>\n      <td>&lt;NA&gt;</td>\n      <td>https://incels.is/threads/is-twerking-just-a-n...</td>\n      <td>2022-07-12 15:10:11</td>\n      <td>2022-07-12 18:11:22</td>\n      <td>8</td>\n      <td>1</td>\n      <td>0.125000</td>\n    </tr>\n    <tr>\n      <th>2371</th>\n      <td>63750</td>\n      <td>Is using a condom make you a beta?</td>\n      <td>&lt;NA&gt;</td>\n      <td>https://incels.is/threads/is-using-a-condom-ma...</td>\n      <td>2020-04-11 14:37:39</td>\n      <td>2020-04-17 22:57:49</td>\n      <td>35</td>\n      <td>1</td>\n      <td>0.028571</td>\n    </tr>\n    <tr>\n      <th>3289</th>\n      <td>91468</td>\n      <td>SCREW JBW AND BCC, JUST BE CURRY IS SUPREME</td>\n      <td>It's Over</td>\n      <td>https://incels.is/threads/screw-jbw-and-bcc-ju...</td>\n      <td>2020-05-05 03:20:25</td>\n      <td>2020-05-06 01:08:02</td>\n      <td>62</td>\n      <td>1</td>\n      <td>0.016129</td>\n    </tr>\n    <tr>\n      <th>3288</th>\n      <td>91446</td>\n      <td>Scott Beierle</td>\n      <td>News</td>\n      <td>https://incels.is/threads/scott-beierle.87808/</td>\n      <td>2018-11-08 23:40:47</td>\n      <td>2018-11-08 23:54:21</td>\n      <td>8</td>\n      <td>1</td>\n      <td>0.125000</td>\n    </tr>\n    <tr>\n      <th>4691</th>\n      <td>125920</td>\n      <td>zyros</td>\n      <td>&lt;NA&gt;</td>\n      <td>https://incels.is/threads/zyros.102890/</td>\n      <td>2019-01-22 11:04:24</td>\n      <td>2019-01-24 08:48:24</td>\n      <td>62</td>\n      <td>1</td>\n      <td>0.016129</td>\n    </tr>\n  </tbody>\n</table>\n<p>4692 rows × 9 columns</p>\n</div>"
     },
     "execution_count": 8,
     "metadata": {},
     "output_type": "execute_result"
    }
   ],
   "source": [
    "KEYWORD = 'fakecel'"
   ],
   "metadata": {
    "collapsed": false,
    "ExecuteTime": {
     "end_time": "2023-06-02T08:27:54.474076Z",
     "start_time": "2023-06-02T08:27:54.398122Z"
    }
   }
  },
  {
   "cell_type": "code",
   "execution_count": 9,
   "outputs": [],
   "source": [
    "# get all posts that mention “fakecel”\n",
    "df1 = i.incel_posts[:1000000]\n",
    "df2  = i.incel_posts[1000000:]\n",
    "fakecel_posts_only = df1[df1[\"post_content\"].str.contains(KEYWORD)]\n",
    "fakecel_posts_only = pd.concat([fakecel_posts_only, df2[df2[\"post_content\"].str.contains(KEYWORD)]])\n",
    "fakecel_posts_only"
   ],
   "metadata": {
    "collapsed": false,
    "ExecuteTime": {
     "end_time": "2023-06-02T08:28:04.102657Z",
     "start_time": "2023-06-02T08:27:59.776291Z"
    }
   }
  },
  {
   "cell_type": "code",
   "execution_count": 5,
   "outputs": [
    {
     "data": {
      "text/plain": "        quoted_post_id                                    quoting_post_id\n0                    0  [10, 55, 132, 134, 135, 136, 152, 242, 248, 25...\n1                    1                                                [7]\n2                    4                                                [5]\n3                   10                                               [11]\n4                   11                                           [12, 14]\n...                ...                                                ...\n804784         2265970                                          [2265971]\n804785         2265971                                          [2265973]\n804786         2265972                                          [2265975]\n804787         2265983                                 [2265984, 2265986]\n804788         2265984                                          [2265985]\n\n[804789 rows x 2 columns]",
      "text/html": "<div>\n<style scoped>\n    .dataframe tbody tr th:only-of-type {\n        vertical-align: middle;\n    }\n\n    .dataframe tbody tr th {\n        vertical-align: top;\n    }\n\n    .dataframe thead th {\n        text-align: right;\n    }\n</style>\n<table border=\"1\" class=\"dataframe\">\n  <thead>\n    <tr style=\"text-align: right;\">\n      <th></th>\n      <th>quoted_post_id</th>\n      <th>quoting_post_id</th>\n    </tr>\n  </thead>\n  <tbody>\n    <tr>\n      <th>0</th>\n      <td>0</td>\n      <td>[10, 55, 132, 134, 135, 136, 152, 242, 248, 25...</td>\n    </tr>\n    <tr>\n      <th>1</th>\n      <td>1</td>\n      <td>[7]</td>\n    </tr>\n    <tr>\n      <th>2</th>\n      <td>4</td>\n      <td>[5]</td>\n    </tr>\n    <tr>\n      <th>3</th>\n      <td>10</td>\n      <td>[11]</td>\n    </tr>\n    <tr>\n      <th>4</th>\n      <td>11</td>\n      <td>[12, 14]</td>\n    </tr>\n    <tr>\n      <th>...</th>\n      <td>...</td>\n      <td>...</td>\n    </tr>\n    <tr>\n      <th>804784</th>\n      <td>2265970</td>\n      <td>[2265971]</td>\n    </tr>\n    <tr>\n      <th>804785</th>\n      <td>2265971</td>\n      <td>[2265973]</td>\n    </tr>\n    <tr>\n      <th>804786</th>\n      <td>2265972</td>\n      <td>[2265975]</td>\n    </tr>\n    <tr>\n      <th>804787</th>\n      <td>2265983</td>\n      <td>[2265984, 2265986]</td>\n    </tr>\n    <tr>\n      <th>804788</th>\n      <td>2265984</td>\n      <td>[2265985]</td>\n    </tr>\n  </tbody>\n</table>\n<p>804789 rows × 2 columns</p>\n</div>"
     },
     "execution_count": 5,
     "metadata": {},
     "output_type": "execute_result"
    }
   ],
   "source": [
    "quotes_relation_df = i.incel_quotes.groupby(['quoted_post_id'])['quoting_post_id'].agg(list).reset_index()\n",
    "quotes_relation_df"
   ],
   "metadata": {
    "collapsed": false,
    "ExecuteTime": {
     "end_time": "2023-06-01T18:20:00.434048Z",
     "start_time": "2023-06-01T18:19:40.484668Z"
    }
   }
  },
  {
   "cell_type": "code",
   "execution_count": 6,
   "outputs": [
    {
     "data": {
      "text/plain": "      thread_id                                       thread_title   \n590       17947                           @Colvin exposed himself   \\\n2251      60945                            Incels.co's \"Mad Dogs\"    \n3138      86408       Prior signs of Insomniac of being a fakecel    \n2417      64588  its actually insane how many people i called a...   \n4078     112495                  What HAPPENED To these users ???    \n...         ...                                                ...   \n2370      63737                 Is twerking  just a nigger thing?    \n2371      63750                Is using a condom make you a beta?    \n3289      91468       SCREW JBW AND BCC, JUST BE CURRY IS SUPREME    \n3288      91446                                     Scott Beierle    \n4691     125920                                             zyros    \n\n     thread_label                                         thread_url   \n590           JFL  https://incels.is/threads/colvin-exposed-himse...  \\\n2251       Theory  https://incels.is/threads/incels-cos-mad-dogs....   \n3138   Discussion  https://incels.is/threads/prior-signs-of-insom...   \n2417      Serious  https://incels.is/threads/its-actually-insane-...   \n4078         <NA>  https://incels.is/threads/what-happened-to-the...   \n...           ...                                                ...   \n2370         <NA>  https://incels.is/threads/is-twerking-just-a-n...   \n2371         <NA>  https://incels.is/threads/is-using-a-condom-ma...   \n3289    It's Over  https://incels.is/threads/screw-jbw-and-bcc-ju...   \n3288         News     https://incels.is/threads/scott-beierle.87808/   \n4691         <NA>            https://incels.is/threads/zyros.102890/   \n\n     earliest_time_posted   latest_time_posted  posts  number_fakecel   \n590   2021-02-13 09:11:06  2021-02-17 19:35:08    168              41  \\\n2251  2020-10-31 08:47:43  2020-11-04 15:38:56     78              35   \n3138  2019-10-17 04:38:48  2019-10-18 21:38:37    111              34   \n2417  2019-07-14 15:33:07  2019-07-15 12:10:11     85              32   \n4078  2018-04-06 01:13:35  2018-05-11 15:50:32    187              32   \n...                   ...                  ...    ...             ...   \n2370  2022-07-12 15:10:11  2022-07-12 18:11:22      8               1   \n2371  2020-04-11 14:37:39  2020-04-17 22:57:49     35               1   \n3289  2020-05-05 03:20:25  2020-05-06 01:08:02     62               1   \n3288  2018-11-08 23:40:47  2018-11-08 23:54:21      8               1   \n4691  2019-01-22 11:04:24  2019-01-24 08:48:24     62               1   \n\n      percent_fakecel  \n590          0.244048  \n2251         0.448718  \n3138         0.306306  \n2417         0.376471  \n4078         0.171123  \n...               ...  \n2370         0.125000  \n2371         0.028571  \n3289         0.016129  \n3288         0.125000  \n4691         0.016129  \n\n[4692 rows x 9 columns]",
      "text/html": "<div>\n<style scoped>\n    .dataframe tbody tr th:only-of-type {\n        vertical-align: middle;\n    }\n\n    .dataframe tbody tr th {\n        vertical-align: top;\n    }\n\n    .dataframe thead th {\n        text-align: right;\n    }\n</style>\n<table border=\"1\" class=\"dataframe\">\n  <thead>\n    <tr style=\"text-align: right;\">\n      <th></th>\n      <th>thread_id</th>\n      <th>thread_title</th>\n      <th>thread_label</th>\n      <th>thread_url</th>\n      <th>earliest_time_posted</th>\n      <th>latest_time_posted</th>\n      <th>posts</th>\n      <th>number_fakecel</th>\n      <th>percent_fakecel</th>\n    </tr>\n  </thead>\n  <tbody>\n    <tr>\n      <th>590</th>\n      <td>17947</td>\n      <td>@Colvin exposed himself</td>\n      <td>JFL</td>\n      <td>https://incels.is/threads/colvin-exposed-himse...</td>\n      <td>2021-02-13 09:11:06</td>\n      <td>2021-02-17 19:35:08</td>\n      <td>168</td>\n      <td>41</td>\n      <td>0.244048</td>\n    </tr>\n    <tr>\n      <th>2251</th>\n      <td>60945</td>\n      <td>Incels.co's \"Mad Dogs\"</td>\n      <td>Theory</td>\n      <td>https://incels.is/threads/incels-cos-mad-dogs....</td>\n      <td>2020-10-31 08:47:43</td>\n      <td>2020-11-04 15:38:56</td>\n      <td>78</td>\n      <td>35</td>\n      <td>0.448718</td>\n    </tr>\n    <tr>\n      <th>3138</th>\n      <td>86408</td>\n      <td>Prior signs of Insomniac of being a fakecel</td>\n      <td>Discussion</td>\n      <td>https://incels.is/threads/prior-signs-of-insom...</td>\n      <td>2019-10-17 04:38:48</td>\n      <td>2019-10-18 21:38:37</td>\n      <td>111</td>\n      <td>34</td>\n      <td>0.306306</td>\n    </tr>\n    <tr>\n      <th>2417</th>\n      <td>64588</td>\n      <td>its actually insane how many people i called a...</td>\n      <td>Serious</td>\n      <td>https://incels.is/threads/its-actually-insane-...</td>\n      <td>2019-07-14 15:33:07</td>\n      <td>2019-07-15 12:10:11</td>\n      <td>85</td>\n      <td>32</td>\n      <td>0.376471</td>\n    </tr>\n    <tr>\n      <th>4078</th>\n      <td>112495</td>\n      <td>What HAPPENED To these users ???</td>\n      <td>&lt;NA&gt;</td>\n      <td>https://incels.is/threads/what-happened-to-the...</td>\n      <td>2018-04-06 01:13:35</td>\n      <td>2018-05-11 15:50:32</td>\n      <td>187</td>\n      <td>32</td>\n      <td>0.171123</td>\n    </tr>\n    <tr>\n      <th>...</th>\n      <td>...</td>\n      <td>...</td>\n      <td>...</td>\n      <td>...</td>\n      <td>...</td>\n      <td>...</td>\n      <td>...</td>\n      <td>...</td>\n      <td>...</td>\n    </tr>\n    <tr>\n      <th>2370</th>\n      <td>63737</td>\n      <td>Is twerking  just a nigger thing?</td>\n      <td>&lt;NA&gt;</td>\n      <td>https://incels.is/threads/is-twerking-just-a-n...</td>\n      <td>2022-07-12 15:10:11</td>\n      <td>2022-07-12 18:11:22</td>\n      <td>8</td>\n      <td>1</td>\n      <td>0.125000</td>\n    </tr>\n    <tr>\n      <th>2371</th>\n      <td>63750</td>\n      <td>Is using a condom make you a beta?</td>\n      <td>&lt;NA&gt;</td>\n      <td>https://incels.is/threads/is-using-a-condom-ma...</td>\n      <td>2020-04-11 14:37:39</td>\n      <td>2020-04-17 22:57:49</td>\n      <td>35</td>\n      <td>1</td>\n      <td>0.028571</td>\n    </tr>\n    <tr>\n      <th>3289</th>\n      <td>91468</td>\n      <td>SCREW JBW AND BCC, JUST BE CURRY IS SUPREME</td>\n      <td>It's Over</td>\n      <td>https://incels.is/threads/screw-jbw-and-bcc-ju...</td>\n      <td>2020-05-05 03:20:25</td>\n      <td>2020-05-06 01:08:02</td>\n      <td>62</td>\n      <td>1</td>\n      <td>0.016129</td>\n    </tr>\n    <tr>\n      <th>3288</th>\n      <td>91446</td>\n      <td>Scott Beierle</td>\n      <td>News</td>\n      <td>https://incels.is/threads/scott-beierle.87808/</td>\n      <td>2018-11-08 23:40:47</td>\n      <td>2018-11-08 23:54:21</td>\n      <td>8</td>\n      <td>1</td>\n      <td>0.125000</td>\n    </tr>\n    <tr>\n      <th>4691</th>\n      <td>125920</td>\n      <td>zyros</td>\n      <td>&lt;NA&gt;</td>\n      <td>https://incels.is/threads/zyros.102890/</td>\n      <td>2019-01-22 11:04:24</td>\n      <td>2019-01-24 08:48:24</td>\n      <td>62</td>\n      <td>1</td>\n      <td>0.016129</td>\n    </tr>\n  </tbody>\n</table>\n<p>4692 rows × 9 columns</p>\n</div>"
     },
     "execution_count": 6,
     "metadata": {},
     "output_type": "execute_result"
    }
   ],
   "source": [
    "fakecel_thread_ids = fakecel_posts_only['thread_id'].to_list()\n",
    "fakecel_threads_df = i.incel_threads[i.incel_threads['thread_id'].isin(fakecel_thread_ids)]\n",
    "number_fakecel_per_threads = fakecel_posts_only.groupby('thread_id')['post_id'].count().sort_values(ascending=False).reset_index().rename(columns={'post_id':'number_fakecel'})\n",
    "fakecel_threads_df = fakecel_threads_df.merge(number_fakecel_per_threads, on='thread_id', how='left').sort_values(by='number_fakecel', ascending=False)\n",
    "fakecel_threads_df['percent_fakecel'] = fakecel_threads_df['number_fakecel'] / fakecel_threads_df['posts']\n",
    "fakecel_threads_df"
   ],
   "metadata": {
    "collapsed": false,
    "ExecuteTime": {
     "end_time": "2023-06-01T18:20:00.575016Z",
     "start_time": "2023-06-01T18:20:00.433772Z"
    }
   }
  },
  {
   "cell_type": "code",
   "execution_count": 10,
   "outputs": [],
   "source": [
    "fakecel_posts_df = df1[df1[\"thread_id\"].isin(fakecel_thread_ids)]\n",
    "fakecel_posts_df = pd.concat([fakecel_posts_df, df2[df2[\"thread_id\"].isin(fakecel_thread_ids)]])\n",
    "fakecel_posts_df = fakecel_posts_df.merge(quotes_relation_df, left_on='post_id', right_on='quoted_post_id', how='left').drop(columns=['quoted_post_id']).rename(columns={'post_id_x': 'post_id', 'quoting_post_id': 'replies'})\n",
    "fakecel_posts_df['contain_keyword'] = fakecel_posts_df['post_content'].str.contains(KEYWORD)\n",
    "fakecel_posts_df['number_of_replies'] = fakecel_posts_df['replies'].apply(lambda x: len(x) if type(x) == list else 0)\n"
   ],
   "metadata": {
    "collapsed": false,
    "ExecuteTime": {
     "end_time": "2023-06-02T08:28:11.134606Z",
     "start_time": "2023-06-02T08:28:11.126050Z"
    }
   }
  },
  {
   "cell_type": "code",
   "execution_count": 11,
   "outputs": [],
   "source": [
    "from bs4 import BeautifulSoup\n",
    "fakecel_posts_df['cleaned_text'] = fakecel_posts_df['post_html']\\\n",
    "    .apply(lambda x: BeautifulSoup(x, 'html.parser')\n",
    "           .find('div', class_='bbWrapper')\n",
    "           .find_all(string=True, recursive=False))\\\n",
    "    .apply(lambda x: ' '.join(x))\n",
    "fakecel_posts_df.drop(columns=['post_html'], inplace=True)\n",
    "\n",
    "fakecel_posts_df['contain_keyword_clean_text'] = fakecel_posts_df['cleaned_text'].str.contains(KEYWORD)"
   ],
   "metadata": {
    "collapsed": false,
    "ExecuteTime": {
     "end_time": "2023-06-02T08:28:15.851451Z",
     "start_time": "2023-06-02T08:28:15.844611Z"
    }
   }
  },
  {
   "cell_type": "code",
   "execution_count": 166,
   "outputs": [
    {
     "data": {
      "text/plain": "      thread_id                                       thread_title   \n2496      67254    Just another incel turned out being fakecel(?)   \\\n1614      45444  I cant stand a white good looking guy represen...   \n1549      43995                       I actually like Asian women    \n1407      40430                               How 2 make friends?    \n3037      84075                        People from lookism, GTFIH    \n1342      38872                     Height is a fucking huge cope    \n1072      32034                         Forum is dead on a Friday    \n523       15648  Can we please name and ban all known fakecels ...   \n1401      40240                                Honestly fuck Vman    \n3986     110707                     What a slow Friday night here    \n\n     thread_label                                         thread_url   \n2496     RageFuel  https://incels.is/threads/just-another-incel-t...  \\\n1614     RageFuel  https://incels.is/threads/i-cant-stand-a-white...   \n1549      Serious  https://incels.is/threads/i-actually-like-asia...   \n1407         <NA>  https://incels.is/threads/how-2-make-friends.4...   \n3037         <NA>  https://incels.is/threads/people-from-lookism-...   \n1342    Blackpill  https://incels.is/threads/height-is-a-fucking-...   \n1072     RageFuel  https://incels.is/threads/forum-is-dead-on-a-f...   \n523      RageFuel  https://incels.is/threads/can-we-please-name-a...   \n1401      Venting  https://incels.is/threads/honestly-fuck-vman.6...   \n3986          JFL  https://incels.is/threads/what-a-slow-friday-n...   \n\n     earliest_time_posted   latest_time_posted  posts  number_fakecel   \n2496  2019-04-25 05:56:08  2019-06-24 15:44:41     54               8  \\\n1614  2018-04-27 03:38:13  2018-04-27 23:06:09     53               5   \n1549  2020-10-05 15:03:31  2020-10-06 20:41:53     47               4   \n1407  2022-12-27 10:44:07  2022-12-31 04:49:50     53              12   \n3037  2018-06-28 01:57:54  2018-06-29 11:44:31     42               4   \n1342  2020-11-24 13:10:21  2020-11-26 00:40:31     50               3   \n1072  2018-10-06 01:04:07  2018-10-07 17:42:00     52              13   \n523   2018-11-08 05:17:43  2018-11-09 06:06:01     43              14   \n1401  2018-08-14 05:20:40  2018-08-18 10:49:17     50               3   \n3986  2018-11-09 23:46:59  2018-11-10 13:17:42     52               7   \n\n      percent_fakecel  \n2496         0.148148  \n1614         0.094340  \n1549         0.085106  \n1407         0.226415  \n3037         0.095238  \n1342         0.060000  \n1072         0.250000  \n523          0.325581  \n1401         0.060000  \n3986         0.134615  ",
      "text/html": "<div>\n<style scoped>\n    .dataframe tbody tr th:only-of-type {\n        vertical-align: middle;\n    }\n\n    .dataframe tbody tr th {\n        vertical-align: top;\n    }\n\n    .dataframe thead th {\n        text-align: right;\n    }\n</style>\n<table border=\"1\" class=\"dataframe\">\n  <thead>\n    <tr style=\"text-align: right;\">\n      <th></th>\n      <th>thread_id</th>\n      <th>thread_title</th>\n      <th>thread_label</th>\n      <th>thread_url</th>\n      <th>earliest_time_posted</th>\n      <th>latest_time_posted</th>\n      <th>posts</th>\n      <th>number_fakecel</th>\n      <th>percent_fakecel</th>\n    </tr>\n  </thead>\n  <tbody>\n    <tr>\n      <th>2496</th>\n      <td>67254</td>\n      <td>Just another incel turned out being fakecel(?)</td>\n      <td>RageFuel</td>\n      <td>https://incels.is/threads/just-another-incel-t...</td>\n      <td>2019-04-25 05:56:08</td>\n      <td>2019-06-24 15:44:41</td>\n      <td>54</td>\n      <td>8</td>\n      <td>0.148148</td>\n    </tr>\n    <tr>\n      <th>1614</th>\n      <td>45444</td>\n      <td>I cant stand a white good looking guy represen...</td>\n      <td>RageFuel</td>\n      <td>https://incels.is/threads/i-cant-stand-a-white...</td>\n      <td>2018-04-27 03:38:13</td>\n      <td>2018-04-27 23:06:09</td>\n      <td>53</td>\n      <td>5</td>\n      <td>0.094340</td>\n    </tr>\n    <tr>\n      <th>1549</th>\n      <td>43995</td>\n      <td>I actually like Asian women</td>\n      <td>Serious</td>\n      <td>https://incels.is/threads/i-actually-like-asia...</td>\n      <td>2020-10-05 15:03:31</td>\n      <td>2020-10-06 20:41:53</td>\n      <td>47</td>\n      <td>4</td>\n      <td>0.085106</td>\n    </tr>\n    <tr>\n      <th>1407</th>\n      <td>40430</td>\n      <td>How 2 make friends?</td>\n      <td>&lt;NA&gt;</td>\n      <td>https://incels.is/threads/how-2-make-friends.4...</td>\n      <td>2022-12-27 10:44:07</td>\n      <td>2022-12-31 04:49:50</td>\n      <td>53</td>\n      <td>12</td>\n      <td>0.226415</td>\n    </tr>\n    <tr>\n      <th>3037</th>\n      <td>84075</td>\n      <td>People from lookism, GTFIH</td>\n      <td>&lt;NA&gt;</td>\n      <td>https://incels.is/threads/people-from-lookism-...</td>\n      <td>2018-06-28 01:57:54</td>\n      <td>2018-06-29 11:44:31</td>\n      <td>42</td>\n      <td>4</td>\n      <td>0.095238</td>\n    </tr>\n    <tr>\n      <th>1342</th>\n      <td>38872</td>\n      <td>Height is a fucking huge cope</td>\n      <td>Blackpill</td>\n      <td>https://incels.is/threads/height-is-a-fucking-...</td>\n      <td>2020-11-24 13:10:21</td>\n      <td>2020-11-26 00:40:31</td>\n      <td>50</td>\n      <td>3</td>\n      <td>0.060000</td>\n    </tr>\n    <tr>\n      <th>1072</th>\n      <td>32034</td>\n      <td>Forum is dead on a Friday</td>\n      <td>RageFuel</td>\n      <td>https://incels.is/threads/forum-is-dead-on-a-f...</td>\n      <td>2018-10-06 01:04:07</td>\n      <td>2018-10-07 17:42:00</td>\n      <td>52</td>\n      <td>13</td>\n      <td>0.250000</td>\n    </tr>\n    <tr>\n      <th>523</th>\n      <td>15648</td>\n      <td>Can we please name and ban all known fakecels ...</td>\n      <td>RageFuel</td>\n      <td>https://incels.is/threads/can-we-please-name-a...</td>\n      <td>2018-11-08 05:17:43</td>\n      <td>2018-11-09 06:06:01</td>\n      <td>43</td>\n      <td>14</td>\n      <td>0.325581</td>\n    </tr>\n    <tr>\n      <th>1401</th>\n      <td>40240</td>\n      <td>Honestly fuck Vman</td>\n      <td>Venting</td>\n      <td>https://incels.is/threads/honestly-fuck-vman.6...</td>\n      <td>2018-08-14 05:20:40</td>\n      <td>2018-08-18 10:49:17</td>\n      <td>50</td>\n      <td>3</td>\n      <td>0.060000</td>\n    </tr>\n    <tr>\n      <th>3986</th>\n      <td>110707</td>\n      <td>What a slow Friday night here</td>\n      <td>JFL</td>\n      <td>https://incels.is/threads/what-a-slow-friday-n...</td>\n      <td>2018-11-09 23:46:59</td>\n      <td>2018-11-10 13:17:42</td>\n      <td>52</td>\n      <td>7</td>\n      <td>0.134615</td>\n    </tr>\n  </tbody>\n</table>\n</div>"
     },
     "execution_count": 166,
     "metadata": {},
     "output_type": "execute_result"
    }
   ],
   "source": [
    "fakecel_threads_df[(fakecel_threads_df['posts'] < 55) & (fakecel_threads_df['number_fakecel'] > 2) & (fakecel_threads_df['posts'] > 40 )].sample(10)"
   ],
   "metadata": {
    "collapsed": false,
    "ExecuteTime": {
     "end_time": "2023-06-01T19:21:01.663635Z",
     "start_time": "2023-06-01T19:21:01.648386Z"
    }
   }
  },
  {
   "cell_type": "code",
   "execution_count": 28,
   "outputs": [],
   "source": [
    "class TreeNode:\n",
    "    def __init__(self, post_id, post_order_in_thread, poster_id, content = None, keyword = None):\n",
    "        self.post_id = post_id\n",
    "        self.content = content\n",
    "        self.post_order_in_thread = post_order_in_thread\n",
    "        self.children = []\n",
    "        self.parent = None\n",
    "        self.poster_id = poster_id\n",
    "        self.keyword = keyword\n",
    "\n",
    "\n",
    "    def add_child(self, child_node):\n",
    "        self.children.append(child_node)\n",
    "\n",
    "    def add_parent(self, parent_node):\n",
    "        self.parent = parent_node\n",
    "\n",
    "    def remove_child(self, child_node):\n",
    "        if child_node in self.children:\n",
    "            self.children.remove(child_node)\n",
    "    def traverse(self):\n",
    "        nodes = [self]\n",
    "        while len(nodes) > 0:\n",
    "            current_node = nodes.pop()\n",
    "            nodes.extend(current_node.children)\n",
    "            yield current_node\n",
    "class ConversationTree:\n",
    "    def __init__(self, thread_id, title, root_node, nodes):\n",
    "        self.thread_id = thread_id\n",
    "        self.title = title\n",
    "        self.root_node = root_node\n",
    "        self.nodes = nodes #dict of nodes, key is their order in the thread, value is the node class"
   ],
   "metadata": {
    "collapsed": false,
    "ExecuteTime": {
     "end_time": "2023-06-02T08:34:55.380016Z",
     "start_time": "2023-06-02T08:34:31.889040Z"
    }
   }
  },
  {
   "cell_type": "code",
   "execution_count": 13,
   "outputs": [],
   "source": [
    "from PrettyPrint import PrettyPrintTree\n",
    "from colorama import Back, Fore, Style\n",
    "\n",
    "def build_conversation_tree(thread_id, df_post, df_thread, quotes_relation_df, keyword = False):\n",
    "    #build the conversation tree of thread_id\n",
    "    df1 = df_post[:1000000]\n",
    "    df2  = df_post[1000000:]\n",
    "\n",
    "    df = df1[df1['thread_id'] == thread_id]\n",
    "    df = pd.concat([df, df2[df2['thread_id'] == thread_id]])\n",
    "    df = df.sort_values('post_order_in_thread', ascending=True)\n",
    "\n",
    "    keys = df['post_id'].tolist()\n",
    "    values = df['post_order_in_thread'].tolist()\n",
    "    post_dict = dict(zip(keys, values))\n",
    "\n",
    "    title = df_thread[df_thread['thread_id'] == thread_id]['thread_title'].values[0]\n",
    "\n",
    "    tree_nodes = dict()#key: post order in thread, value: TreeNode of this post\n",
    "    root_node = None\n",
    "\n",
    "\n",
    "    for index, row in df.iterrows(): #create tree nodes for each post within the thread\n",
    "        if keyword:\n",
    "            tree_nodes[row['post_order_in_thread']] = TreeNode(row['post_id'], row['post_order_in_thread'], row['poster_id'], row['post_content'], row['contain_keyword'],)\n",
    "        else:\n",
    "            tree_nodes[row['post_order_in_thread']] = TreeNode(row['post_id'], row['post_order_in_thread'], row['poster_id'], row['post_content'])\n",
    "    if keyword:\n",
    "        root_node = TreeNode(post_id = 0, post_order_in_thread = 0, poster_id = 0, content = title, keyword = False) # root node is the title in the thread (topic)\n",
    "    else:\n",
    "        root_node = TreeNode(post_id = 0, post_order_in_thread = 0, poster_id = 0, content = title) # root node is the title in the thread (topic)\n",
    "\n",
    "    tree_nodes[0] = root_node\n",
    "\n",
    "    for index, row in quotes_relation_df.iterrows():\n",
    "        # if row['quoted_post_id'] == 0: #the post which is not quoting any post, it replies to the root node (topic) directly\n",
    "        #     for post_id in row['quoting_post_id']:\n",
    "        #         if post_id in post_dict:\n",
    "        #             root_node.add_child(tree_nodes[post_dict[post_id]])\n",
    "        if row['quoted_post_id'] in post_dict: # if quoted post exists in this thread\n",
    "            current_node = tree_nodes[post_dict[row['quoted_post_id']]]\n",
    "            for post_id in row['quoting_post_id']:\n",
    "                if post_id in post_dict:\n",
    "                    current_node.add_child(tree_nodes[post_dict[post_id]]) # add child node\n",
    "                    tree_nodes[post_dict[post_id]].add_parent(current_node) # add parent node\n",
    "\n",
    "    #the post which is not quoting any post, it replies to the root node (topic) directly, so we add it to the children of root node\n",
    "    for node in tree_nodes.values():\n",
    "        if node.parent is None and node.post_order_in_thread != 0:\n",
    "            node.add_parent(root_node)\n",
    "            root_node.add_child(node)\n",
    "\n",
    "    tree = ConversationTree(thread_id, title, root_node, tree_nodes)\n",
    "    return root_node, tree, df\n",
    "\n",
    "\n",
    "\n",
    "def plot_tree(root_node):\n",
    "    pt = PrettyPrintTree(lambda x: x.children, lambda x: x.post_order_in_thread, lambda x:x.poster_id, label_color = Fore.RED)\n",
    "    pt(root_node)\n"
   ],
   "metadata": {
    "collapsed": false,
    "ExecuteTime": {
     "end_time": "2023-06-02T08:29:42.423161Z",
     "start_time": "2023-06-02T08:29:42.420759Z"
    }
   }
  },
  {
   "cell_type": "code",
   "execution_count": 29,
   "outputs": [
    {
     "data": {
      "text/plain": "'((810)7240,(((7241)1220)7240)1220,((1230)7240,1060)1230,(551)3121,(((7240)1220,(1220,((((((((7240)23550)7240)23550)7240)23550)7240)23550)7240)8180)7240)8180,(((7240)23550)7240,14960)23550,11480,5310,((7240,((2860)7240)2860,(7240)2550)17581)2861,300,4620)00;'"
     },
     "execution_count": 29,
     "metadata": {},
     "output_type": "execute_result"
    }
   ],
   "source": [
    "# root_node, tree, df_test= build_conversation_tree(thread_id = 28432, df_post = fakecel_posts_df, df_thread = fakecel_threads_df, quotes_relation_df = quotes_relation_df, keyword=True)\n",
    "THREAD_ID = 84075\n",
    "root_node, tree, df_test= build_conversation_tree(thread_id = THREAD_ID, df_post = fakecel_posts_df, df_thread = fakecel_threads_df, quotes_relation_df = quotes_relation_df, keyword=True)"
   ],
   "metadata": {
    "collapsed": false,
    "ExecuteTime": {
     "end_time": "2023-06-02T08:34:59.491695Z",
     "start_time": "2023-06-02T08:34:59.484668Z"
    }
   }
  },
  {
   "cell_type": "code",
   "execution_count": 156,
   "outputs": [],
   "source": [
    "def convert_boolen_into_str(value):\n",
    "    str_value = '1' if value else '0'\n",
    "    return str_value\n",
    "def to_newick(node):\n",
    "    \"\"\"Converts the tree to Newick format.\"\"\"\n",
    "    inf =str(node.poster_id) + convert_boolen_into_str(node.keyword)\n",
    "    if len(node.children) == 0:  # Leaf node\n",
    "        return \"{}\".format(inf)\n",
    "    else:  # Internal node\n",
    "        return \"({}){}\".format(','.join(to_newick(child) for child in node.children), inf)"
   ],
   "metadata": {
    "collapsed": false,
    "ExecuteTime": {
     "end_time": "2023-06-01T19:19:13.486086Z",
     "start_time": "2023-06-01T19:19:13.479626Z"
    }
   }
  },
  {
   "cell_type": "code",
   "execution_count": 30,
   "outputs": [],
   "source": [
    "treestr = to_newick(root_node)\n",
    "treestr = treestr + ';'\n",
    "treestr"
   ],
   "metadata": {
    "collapsed": false,
    "ExecuteTime": {
     "end_time": "2023-06-02T08:35:01.752676Z",
     "start_time": "2023-06-02T08:35:01.747450Z"
    }
   }
  },
  {
   "cell_type": "code",
   "execution_count": 34,
   "outputs": [],
   "source": [],
   "metadata": {
    "collapsed": false,
    "ExecuteTime": {
     "end_time": "2023-06-02T08:35:37.956088Z",
     "start_time": "2023-06-02T08:35:37.944286Z"
    }
   }
  },
  {
   "cell_type": "code",
   "execution_count": 37,
   "outputs": [],
   "source": [
    "import seaborn as sns\n",
    "\n",
    "palette =sns.color_palette(\"husl\", 3)\n",
    "# palette = sns.color_palette()\n",
    "\n",
    "# Print the colors in web standard RGB format\n",
    "color_list = []\n",
    "for color in palette:\n",
    "    rgb = ''.join([f'{int(x * 255):02x}' for x in color])\n",
    "    color_list.append('#' + rgb)"
   ],
   "metadata": {
    "collapsed": false,
    "ExecuteTime": {
     "end_time": "2023-06-02T08:36:27.472079Z",
     "start_time": "2023-06-02T08:36:16.713671Z"
    }
   }
  },
  {
   "cell_type": "code",
   "execution_count": 180,
   "outputs": [],
   "source": [
    "from ete3 import Tree, TreeStyle, TextFace, add_face_to_node,NodeStyle,CircleFace\n",
    "t = Tree(treestr)\n",
    "ts = TreeStyle()\n",
    "ts.show_leaf_name = False\n",
    "# ts.draw_aligned_faces_as_table = True\n",
    "# ts.scale = 5\n",
    "ts.optimal_scale_level = 'mid'\n",
    "ts.branch_vertical_margin = 2\n",
    "# ts.min_leaf_separation = 1\n",
    "\n",
    "color_poster_map = dict()\n",
    "for i, color in enumerate(color_list):\n",
    "    color_poster_map[df_test['poster_id'].value_counts().index.tolist()[i]] = color\n",
    "\n",
    "# ts.show_branch_length = True\n",
    "# ts.show_branch_support = True\n",
    "count = 0\n",
    "for n in t.traverse():\n",
    "    count += 1\n",
    "    nstyle = NodeStyle()\n",
    "    if n.name: #leaf node, user_id stored in name\n",
    "        user_id = int(n.name[:-1])\n",
    "        keyword = int(n.name[-1])\n",
    "    else: #internal node, keyword stored in support\n",
    "        try:\n",
    "            user_id = int(str(int(n.support))[:-1])\n",
    "            keyword = int(str(int(n.support))[-1])\n",
    "        except:\n",
    "            nstyle[\"fgcolor\"] = \"grey\"\n",
    "            n.set_style(nstyle)\n",
    "            continue #root node, no user_id and keyword stored in support\n",
    "    if keyword: #includes keyword\n",
    "        nstyle[\"shape\"] = \"sphere\"\n",
    "        # nstyle[\"bgcolor\"] = 'red'\n",
    "        # nstyle[\"size\"] = 2\n",
    "\n",
    "\n",
    "    if user_id in color_poster_map.keys():\n",
    "        # count += 1\n",
    "        nstyle[\"fgcolor\"] = color_poster_map[user_id]\n",
    "    else:\n",
    "        # count += 1\n",
    "        nstyle[\"fgcolor\"] = \"grey\"\n",
    "    n.set_style(nstyle)\n"
   ],
   "metadata": {
    "collapsed": false,
    "ExecuteTime": {
     "end_time": "2023-06-01T19:23:24.296179Z",
     "start_time": "2023-06-01T19:23:24.285889Z"
    }
   }
  },
  {
   "cell_type": "code",
   "execution_count": 181,
   "outputs": [],
   "source": [
    "t.show(tree_style=ts)"
   ],
   "metadata": {
    "collapsed": false,
    "ExecuteTime": {
     "end_time": "2023-06-01T19:23:27.431143Z",
     "start_time": "2023-06-01T19:23:24.866765Z"
    }
   }
  },
  {
   "cell_type": "code",
   "execution_count": 36,
   "outputs": [
    {
     "data": {
      "text/plain": "'https://incels.is/threads/should-escortcels-be-allowed-on-this-forum.298979/'"
     },
     "execution_count": 36,
     "metadata": {},
     "output_type": "execute_result"
    }
   ],
   "source": [],
   "metadata": {
    "collapsed": false,
    "ExecuteTime": {
     "end_time": "2023-06-02T08:35:47.631444Z",
     "start_time": "2023-06-02T08:35:47.623030Z"
    }
   }
  },
  {
   "cell_type": "code",
   "execution_count": 22,
   "outputs": [
    {
     "data": {
      "text/plain": "2"
     },
     "execution_count": 22,
     "metadata": {},
     "output_type": "execute_result"
    }
   ],
   "source": [
    "filename = 'tree_{}.png'.format(THREAD_ID)\n",
    "t.render(filename, w=2048, units=\"px\", tree_style=ts, bgcolor='white')"
   ],
   "metadata": {
    "collapsed": false,
    "ExecuteTime": {
     "end_time": "2023-06-02T08:32:48.041073Z",
     "start_time": "2023-06-02T08:32:48.034539Z"
    }
   }
  },
  {
   "cell_type": "code",
   "execution_count": 98,
   "outputs": [
    {
     "data": {
      "text/plain": "10"
     },
     "execution_count": 98,
     "metadata": {},
     "output_type": "execute_result"
    }
   ],
   "source": [
    "df_test['contain_keyword'].sum()"
   ],
   "metadata": {
    "collapsed": false,
    "ExecuteTime": {
     "end_time": "2023-06-01T16:25:02.357306Z",
     "start_time": "2023-06-01T16:25:02.337942Z"
    }
   }
  },
  {
   "cell_type": "code",
   "execution_count": 68,
   "outputs": [
    {
     "data": {
      "text/plain": "        thread_id                                thread_title thread_label   \n125074     125074  You need a license in the uk to watch tv.       Serious  \\\n\n                                               thread_url   \n125074  https://incels.is/threads/you-need-a-license-i...  \\\n\n       earliest_time_posted   latest_time_posted  posts  \n125074  2022-05-02 11:55:24  2022-08-29 18:13:21    100  ",
      "text/html": "<div>\n<style scoped>\n    .dataframe tbody tr th:only-of-type {\n        vertical-align: middle;\n    }\n\n    .dataframe tbody tr th {\n        vertical-align: top;\n    }\n\n    .dataframe thead th {\n        text-align: right;\n    }\n</style>\n<table border=\"1\" class=\"dataframe\">\n  <thead>\n    <tr style=\"text-align: right;\">\n      <th></th>\n      <th>thread_id</th>\n      <th>thread_title</th>\n      <th>thread_label</th>\n      <th>thread_url</th>\n      <th>earliest_time_posted</th>\n      <th>latest_time_posted</th>\n      <th>posts</th>\n    </tr>\n  </thead>\n  <tbody>\n    <tr>\n      <th>125074</th>\n      <td>125074</td>\n      <td>You need a license in the uk to watch tv.</td>\n      <td>Serious</td>\n      <td>https://incels.is/threads/you-need-a-license-i...</td>\n      <td>2022-05-02 11:55:24</td>\n      <td>2022-08-29 18:13:21</td>\n      <td>100</td>\n    </tr>\n  </tbody>\n</table>\n</div>"
     },
     "execution_count": 68,
     "metadata": {},
     "output_type": "execute_result"
    }
   ],
   "source": [
    "i.incel_threads[i.incel_threads['thread_id'] == 125074]"
   ],
   "metadata": {
    "collapsed": false,
    "ExecuteTime": {
     "end_time": "2023-06-01T15:59:48.369081Z",
     "start_time": "2023-06-01T15:59:48.325506Z"
    }
   }
  },
  {
   "cell_type": "code",
   "execution_count": 74,
   "outputs": [
    {
     "data": {
      "text/plain": "{'nodes': [[1.0325241977531845,\n   487.35142133950296,\n   9.29271777977866,\n   495.6116149215284,\n   0,\n   None],\n  [35.45070825865321,\n   22.715532350570054,\n   43.71090184067868,\n   30.975725932595527,\n   1,\n   None],\n  [234.82690993253482,\n   10.325241977531842,\n   243.08710351456028,\n   18.585435559557318,\n   2,\n   None],\n  [46.3421671138693,\n   35.10582272360826,\n   54.60236069589478,\n   43.36601630563374,\n   3,\n   None],\n  [11.111159533387106,\n   72.27669384272289,\n   19.37135311541258,\n   80.53688742474837,\n   4,\n   None],\n  [20.173765469543316,\n   59.88640346968469,\n   28.43395905156879,\n   68.14659705171016,\n   5,\n   None],\n  [36.94953977647533,\n   84.6669842157611,\n   45.209733358500806,\n   92.92717779778658,\n   6,\n   None],\n  [12.917434021347484,\n   159.0087264539904,\n   21.17762760337296,\n   167.26892003601586,\n   7,\n   None],\n  [26.902137937195725,\n   134.22814570791397,\n   35.1623315192212,\n   142.48833928993943,\n   8,\n   None],\n  [39.71276343586972,\n   134.22814570791397,\n   47.97295701789519,\n   142.48833928993943,\n   9,\n   None],\n  [56.361722221459516,\n   134.22814570791397,\n   64.621915803485,\n   142.48833928993943,\n   10,\n   None],\n  [69.1723477201335,\n   134.22814570791397,\n   77.43254130215898,\n   142.48833928993943,\n   11,\n   None],\n  [85.8213065057233,\n   134.22814570791397,\n   94.08150008774878,\n   142.48833928993943,\n   12,\n   None],\n  [98.6319320043973,\n   134.22814570791397,\n   106.89212558642278,\n   142.48833928993943,\n   13,\n   None],\n  [115.28089078998708,\n   109.44756496183753,\n   123.54108437201256,\n   117.70775854386301,\n   14,\n   None],\n  [128.0915162886611,\n   109.44756496183753,\n   136.35170987068656,\n   117.70775854386301,\n   15,\n   None],\n  [144.7404750742509,\n   109.44756496183753,\n   153.0006686562764,\n   117.70775854386301,\n   16,\n   None],\n  [133.05011606529732,\n   134.22814570791397,\n   141.31030964732278,\n   142.48833928993943,\n   17,\n   None],\n  [116.18402803396728,\n   159.0087264539904,\n   124.44422161599276,\n   167.26892003601586,\n   18,\n   None],\n  [52.235137630840036,\n   183.7893072000668,\n   60.49533121286551,\n   192.04950078209228,\n   19,\n   None],\n  [42.47260033059918,\n   208.5698879461432,\n   50.73279391262466,\n   216.8300815281687,\n   20,\n   None],\n  [84.4094019476343,\n   208.5698879461432,\n   92.66959552965976,\n   216.8300815281687,\n   21,\n   None],\n  [11.246630119984134,\n   307.69221093044894,\n   19.506823702009612,\n   315.9524045124744,\n   22,\n   None],\n  [52.68670625283013,\n   233.35046869221964,\n   60.94689983485561,\n   241.61066227424513,\n   23,\n   None],\n  [45.66481418088416,\n   258.1310494382961,\n   53.92500776290964,\n   266.39124302032155,\n   24,\n   None],\n  [60.73328278950863,\n   258.1310494382961,\n   68.9934763715341,\n   266.39124302032155,\n   25,\n   None],\n  [51.46747097345688,\n   282.9116301843725,\n   59.727664555482356,\n   291.17182376639795,\n   26,\n   None],\n  [26.83440264389721,\n   338.6679368630444,\n   35.094596225922686,\n   346.92813044506994,\n   27,\n   None],\n  [43.48336142948701,\n   320.0825013034871,\n   51.743555011512484,\n   328.34269488551257,\n   28,\n   None],\n  [59.071133953400086,\n   320.0825013034871,\n   67.33132753542556,\n   328.34269488551257,\n   29,\n   None],\n  [65.35659286431721,\n   307.69221093044894,\n   73.61678644634269,\n   315.9524045124744,\n   30,\n   None],\n  [75.72009273898988,\n   332.47279167652533,\n   83.98028632101536,\n   340.7329852585508,\n   31,\n   None],\n  [91.30786526290296,\n   332.47279167652533,\n   99.56805884492843,\n   340.7329852585508,\n   32,\n   None],\n  [107.95682404849276,\n   332.47279167652533,\n   116.21701763051824,\n   340.7329852585508,\n   33,\n   None],\n  [123.54459657240585,\n   332.47279167652533,\n   131.80479015443132,\n   340.7329852585508,\n   34,\n   None],\n  [140.19355535799565,\n   332.47279167652533,\n   148.45374894002114,\n   340.7329852585508,\n   35,\n   None],\n  [155.78132788190874,\n   332.47279167652533,\n   164.0415214639342,\n   340.7329852585508,\n   36,\n   None],\n  [172.43028666749854,\n   332.47279167652533,\n   180.69048024952403,\n   340.7329852585508,\n   37,\n   None],\n  [188.01805919141162,\n   332.47279167652533,\n   196.2782527734371,\n   340.7329852585508,\n   38,\n   None],\n  [204.66701797700142,\n   332.47279167652533,\n   212.92721155902692,\n   340.7329852585508,\n   39,\n   None],\n  [220.2547905009145,\n   332.47279167652533,\n   228.51498408293997,\n   340.7329852585508,\n   40,\n   None],\n  [236.9037492865043,\n   332.47279167652533,\n   245.1639428685298,\n   340.7329852585508,\n   41,\n   None],\n  [252.4915218104174,\n   332.47279167652533,\n   260.75171539244286,\n   340.7329852585508,\n   42,\n   None],\n  [269.1404805960072,\n   332.47279167652533,\n   277.40067417803266,\n   340.7329852585508,\n   43,\n   None],\n  [284.7282531199203,\n   332.47279167652533,\n   292.98844670194575,\n   340.7329852585508,\n   44,\n   None],\n  [301.3772119055101,\n   332.47279167652533,\n   309.63740548753555,\n   340.7329852585508,\n   45,\n   None],\n  [316.9649844294231,\n   332.47279167652533,\n   325.2251780114486,\n   340.7329852585508,\n   46,\n   None],\n  [333.6139432150129,\n   332.47279167652533,\n   341.8741367970384,\n   340.7329852585508,\n   47,\n   None],\n  [349.201715738926,\n   332.47279167652533,\n   357.46190932095146,\n   340.7329852585508,\n   48,\n   None],\n  [365.8506745245158,\n   332.47279167652533,\n   374.11086810654126,\n   340.7329852585508,\n   49,\n   None],\n  [381.4384470484288,\n   332.47279167652533,\n   389.6986406304543,\n   340.7329852585508,\n   50,\n   None],\n  [398.0874058340186,\n   332.47279167652533,\n   406.34759941604415,\n   340.7329852585508,\n   51,\n   None],\n  [413.6751783579317,\n   332.47279167652533,\n   421.9353719399572,\n   340.7329852585508,\n   52,\n   None],\n  [430.3241371435215,\n   332.47279167652533,\n   438.584330725547,\n   340.7329852585508,\n   53,\n   None],\n  [445.91190966743454,\n   332.47279167652533,\n   454.17210324946,\n   340.7329852585508,\n   54,\n   None],\n  [462.56086845302434,\n   332.47279167652533,\n   470.82106203504986,\n   340.7329852585508,\n   55,\n   None],\n  [478.14864097693743,\n   332.47279167652533,\n   486.4088345589629,\n   340.7329852585508,\n   56,\n   None],\n  [494.7975997625272,\n   332.47279167652533,\n   503.0577933445527,\n   340.7329852585508,\n   57,\n   None],\n  [510.38537228644026,\n   332.47279167652533,\n   518.6455658684657,\n   340.7329852585508,\n   58,\n   None],\n  [527.0343310720301,\n   332.47279167652533,\n   535.2945246540555,\n   340.7329852585508,\n   59,\n   None],\n  [542.6221035959431,\n   332.47279167652533,\n   550.8822971779687,\n   340.7329852585508,\n   60,\n   None],\n  [559.2710623815329,\n   332.47279167652533,\n   567.5312559635585,\n   340.7329852585508,\n   61,\n   None],\n  [570.162521236749,\n   332.47279167652533,\n   578.4227148187745,\n   340.7329852585508,\n   62,\n   None],\n  [586.8114800223387,\n   332.47279167652533,\n   595.0716736043643,\n   340.7329852585508,\n   63,\n   None],\n  [597.7029388775549,\n   332.47279167652533,\n   605.9631324595804,\n   340.7329852585508,\n   64,\n   None],\n  [614.3518976631447,\n   332.47279167652533,\n   622.6120912451702,\n   340.7329852585508,\n   65,\n   None],\n  [40.074018333461794,\n   357.2533724226018,\n   48.334211915487266,\n   365.51356600462725,\n   66,\n   None],\n  [23.989520325359617,\n   382.0339531686782,\n   32.24971390738509,\n   390.29414675070365,\n   67,\n   None],\n  [34.52499258357352,\n   419.2048242877928,\n   42.785186165598994,\n   427.46501786981827,\n   68,\n   None],\n  [68.94317664447354,\n   406.8145339147546,\n   77.20337022649902,\n   415.0747274967801,\n   69,\n   None],\n  [47.7646082731381,\n   431.59511466083103,\n   56.02480185516358,\n   439.8553082428565,\n   70,\n   None],\n  [62.83307688176257,\n   431.59511466083103,\n   71.09327046378804,\n   439.8553082428565,\n   71,\n   None],\n  [22.987414291726598,\n   456.3756954069074,\n   31.247607873752074,\n   464.63588898893295,\n   72,\n   None],\n  [7.656659575162881,\n   481.1562761529839,\n   15.916853157188356,\n   489.41646973500934,\n   73,\n   None],\n  [24.012098756459118,\n   481.1562761529839,\n   32.2722923384846,\n   489.41646973500934,\n   74,\n   None],\n  [30.636234133868818,\n   481.1562761529839,\n   38.89642771589429,\n   489.41646973500934,\n   75,\n   None],\n  [38.995521941275456,\n   505.9368568990603,\n   47.25571552330093,\n   514.1970504810857,\n   76,\n   None],\n  [44.82075716494767,\n   543.107728018175,\n   53.08095074697315,\n   551.3679216002004,\n   77,\n   None],\n  [61.46971595053747,\n   530.7174376451367,\n   69.72990953256296,\n   538.9776312271622,\n   78,\n   None],\n  [75.8156747639778,\n   530.7174376451367,\n   84.07586834600328,\n   538.9776312271622,\n   79,\n   None],\n  [79.2389412258477,\n   555.4980183912131,\n   87.49913480787318,\n   563.7582119732386,\n   80,\n   None],\n  [17.68148298334298,\n   580.2785991372896,\n   25.941676565368457,\n   588.538792719315,\n   81,\n   None],\n  [7.317983108670311,\n   605.059179883366,\n   15.578176690695786,\n   613.3193734653914,\n   82,\n   None],\n  [26.283865232254286,\n   629.8397606294424,\n   34.544058814279765,\n   638.0999542114679,\n   83,\n   None],\n  [21.271453528164237,\n   679.4009221215953,\n   29.531647110189713,\n   687.6611157036207,\n   84,\n   None],\n  [36.33992213678871,\n   654.6203413755188,\n   44.60011571881418,\n   662.8805349575443,\n   85,\n   None],\n  [56.57885146719976,\n   654.6203413755188,\n   64.83904504922523,\n   662.8805349575443,\n   86,\n   None],\n  [27.895588905573934,\n   679.4009221215953,\n   36.15578248759941,\n   687.6611157036207,\n   87,\n   None],\n  [40.63847911094942,\n   679.4009221215953,\n   48.89867269297489,\n   687.6611157036207,\n   88,\n   None],\n  [33.224098645057055,\n   704.1815028676717,\n   41.484292227082534,\n   712.4416964496971,\n   89,\n   None],\n  [11.269208551083636,\n   728.9620836137481,\n   19.529402133109112,\n   737.2222771957736,\n   90,\n   None],\n  [34.59272787687203,\n   753.7426643598245,\n   42.852921458897505,\n   762.00285794185,\n   91,\n   None],\n  [32.56066907791661,\n   778.523245105901,\n   40.82086265994208,\n   786.7834386879264,\n   92,\n   None],\n  [36.286110209334886,\n   803.3038258519773,\n   44.546303791360366,\n   811.5640194340028,\n   93,\n   None],\n  [27.02895345853794,\n   828.0844065980538,\n   35.28914704056342,\n   836.3446001800793,\n   94,\n   None],\n  [27.48052208052804,\n   852.8649873441302,\n   35.74071566255351,\n   861.1251809261557,\n   95,\n   None],\n  [33.0348161310062,\n   877.6455680902067,\n   41.295009713031675,\n   885.9057616722321,\n   96,\n   None],\n  [49.683774916596,\n   877.6455680902067,\n   57.94396849862148,\n   885.9057616722321,\n   97,\n   None],\n  [12.985169314646003,\n   902.426148836283,\n   21.245362896671477,\n   910.6863424183085,\n   98,\n   None],\n  [7.543767419665359,\n   927.2067295823595,\n   15.803961001690835,\n   935.466923164385,\n   99,\n   None],\n  [37.97949254179775,\n   951.9873103284359,\n   46.239686123823226,\n   960.2475039104613,\n   100,\n   None]],\n 'faces': [[242.0545793168071,\n   2.0650483955063685,\n   266.8351600628836,\n   26.84562914158279,\n   2,\n   '29'],\n  [53.56983649814159,\n   26.84562914158279,\n   78.35041724421802,\n   51.626209887659215,\n   3,\n   '93'],\n  [27.401434853815605,\n   51.626209887659215,\n   39.79172522685382,\n   76.40679063373564,\n   5,\n   '6'],\n  [44.17720916074762,\n   76.40679063373564,\n   68.95778990682406,\n   101.18737137981206,\n   6,\n   '23'],\n  [151.9681444585232,\n   101.18737137981206,\n   176.74872520459962,\n   125.96795212588849,\n   16,\n   '35'],\n  [140.2777854495696,\n   125.96795212588849,\n   165.05836619564602,\n   150.7485328719649,\n   17,\n   '31'],\n  [123.41169741823957,\n   150.7485328719649,\n   148.192278164316,\n   175.52911361804132,\n   18,\n   '32'],\n  [59.462807015112325,\n   175.52911361804132,\n   84.24338776118876,\n   200.30969436411775,\n   19,\n   '16'],\n  [91.63707133190658,\n   200.30969436411775,\n   116.417652077983,\n   225.09027511019417,\n   21,\n   '33'],\n  [59.914375637102424,\n   225.09027511019417,\n   72.30466601014064,\n   249.8708558562706,\n   23,\n   '7'],\n  [67.96095217378091,\n   249.8708558562706,\n   92.74153291985735,\n   274.651436602347,\n   25,\n   '13'],\n  [58.695140357729166,\n   274.651436602347,\n   83.4757211038056,\n   299.4320173484234,\n   26,\n   '20'],\n  [72.5842622485895,\n   299.4320173484234,\n   97.36484299466593,\n   324.21259809449987,\n   30,\n   '43'],\n  [621.579567047417,\n   324.21259809449987,\n   646.3601477934934,\n   348.99317884057626,\n   65,\n   '98'],\n  [47.30168771773408,\n   348.99317884057626,\n   72.08226846381051,\n   373.7737595866527,\n   66,\n   '40'],\n  [31.21718970963191,\n   373.7737595866527,\n   55.997770455708334,\n   398.5543403327291,\n   67,\n   '78'],\n  [76.17084602874583,\n   398.5543403327291,\n   100.95142677482227,\n   423.33492107880556,\n   69,\n   '10'],\n  [70.06074626603485,\n   423.33492107880556,\n   94.84132701211128,\n   448.11550182488196,\n   71,\n   '62'],\n  [30.21508367599889,\n   448.11550182488196,\n   52.93061602656895,\n   472.8960825709584,\n   72,\n   '11'],\n  [37.86390351814111,\n   472.8960825709584,\n   62.64448426421753,\n   497.6766633170348,\n   75,\n   '36'],\n  [46.223191325547745,\n   497.6766633170348,\n   71.00377207162417,\n   522.4572440631113,\n   76,\n   '19'],\n  [83.0433441482501,\n   522.4572440631113,\n   107.82392489432652,\n   547.2378248091877,\n   79,\n   '99'],\n  [86.46661061011999,\n   547.2378248091877,\n   111.24719135619641,\n   572.018405555264,\n   80,\n   '25'],\n  [24.909152367615274,\n   572.018405555264,\n   49.6897331136917,\n   596.7989863013405,\n   81,\n   '22'],\n  [14.545652492942603,\n   596.7989863013405,\n   39.32623323901903,\n   621.579567047417,\n   82,\n   '42'],\n  [33.511534616526575,\n   621.579567047417,\n   58.292115362603006,\n   646.3601477934933,\n   83,\n   '45'],\n  [63.80652085147205,\n   646.3601477934933,\n   88.58710159754848,\n   671.1407285395697,\n   86,\n   '64'],\n  [47.86614849522171,\n   671.1407285395697,\n   72.64672924129813,\n   695.9213092856462,\n   88,\n   '79'],\n  [40.45176802932935,\n   695.9213092856462,\n   65.23234877540578,\n   720.7018900317227,\n   89,\n   '81'],\n  [18.49687793535593,\n   720.7018900317227,\n   43.27745868143236,\n   745.482470777799,\n   90,\n   '48'],\n  [41.82039726114432,\n   745.482470777799,\n   66.60097800722075,\n   770.2630515238754,\n   91,\n   '49'],\n  [39.7883384621889,\n   770.2630515238754,\n   64.56891920826533,\n   795.0436322699519,\n   92,\n   '50'],\n  [43.51377959360718,\n   795.0436322699519,\n   68.2943603396836,\n   819.8242130160284,\n   93,\n   '57'],\n  [34.25662284281023,\n   819.8242130160284,\n   59.03720358888666,\n   844.6047937621047,\n   94,\n   '59'],\n  [34.70819146480033,\n   844.6047937621047,\n   59.48877221087676,\n   869.3853745081811,\n   95,\n   '73'],\n  [56.91144430086829,\n   869.3853745081811,\n   81.69202504694472,\n   894.1659552542576,\n   97,\n   '75'],\n  [20.212838698918294,\n   894.1659552542576,\n   44.99341944499472,\n   918.946536000334,\n   98,\n   '80'],\n  [14.77143680393765,\n   918.946536000334,\n   39.55201755001408,\n   943.7271167464104,\n   99,\n   '85'],\n  [45.207161926070036,\n   943.7271167464104,\n   80.31298464967831,\n   968.5076974924868,\n   100,\n   '100']],\n 'node_areas': {0: [2.065048395506369,\n   2.0650483955063685,\n   646.3601477934936,\n   968.5076974924868],\n  1: [8.260193582025476,\n   2.0650483955063685,\n   266.8351600628836,\n   51.626209887659215],\n  2: [42.6783776429255,\n   2.0650483955063685,\n   266.8351600628836,\n   26.84562914158279],\n  3: [42.6783776429255,\n   26.84562914158279,\n   78.35041724421802,\n   51.626209887659215],\n  4: [8.260193582025476,\n   51.626209887659215,\n   68.95778990682406,\n   101.18737137981206],\n  5: [18.3388289176594,\n   51.626209887659215,\n   39.79172522685382,\n   76.40679063373564],\n  6: [18.3388289176594,\n   76.40679063373564,\n   68.95778990682406,\n   101.18737137981206],\n  7: [8.260193582025476,\n   101.18737137981206,\n   176.7487252045996,\n   200.30969436411775],\n  8: [20.145103405619775,\n   101.18737137981206,\n   176.7487252045996,\n   175.52911361804132],\n  9: [34.129807321468014,\n   101.18737137981206,\n   176.74872520459957,\n   175.52911361804132],\n  10: [46.94043282014201,\n   101.18737137981206,\n   176.7487252045996,\n   175.52911361804132],\n  11: [63.589391605731805,\n   101.18737137981206,\n   176.7487252045996,\n   175.52911361804132],\n  12: [76.40001710440579,\n   101.18737137981206,\n   176.7487252045996,\n   175.52911361804132],\n  13: [93.0489758899956,\n   101.18737137981206,\n   176.74872520459962,\n   175.52911361804132],\n  14: [105.85960138866959,\n   101.18737137981206,\n   176.74872520459962,\n   125.96795212588849],\n  15: [122.50856017425939,\n   101.18737137981206,\n   176.7487252045996,\n   125.96795212588849],\n  16: [135.3191856729334,\n   101.18737137981206,\n   176.74872520459962,\n   125.96795212588849],\n  17: [105.85960138866959,\n   125.96795212588849,\n   165.05836619564602,\n   150.7485328719649],\n  18: [105.85960138866959,\n   150.7485328719649,\n   148.192278164316,\n   175.52911361804132],\n  19: [20.145103405619775,\n   175.52911361804132,\n   84.24338776118876,\n   200.30969436411775],\n  20: [8.260193582025476,\n   200.30969436411775,\n   116.417652077983,\n   225.09027511019417],\n  21: [49.700269714871474,\n   200.30969436411775,\n   116.417652077983,\n   225.09027511019417],\n  22: [8.260193582025476,\n   225.09027511019417,\n   646.3601477934936,\n   398.5543403327291],\n  23: [18.474299504256425,\n   225.09027511019417,\n   72.30466601014064,\n   249.8708558562706],\n  24: [18.474299504256425,\n   249.8708558562706,\n   92.74153291985735,\n   274.651436602347],\n  25: [52.892483565156446,\n   249.8708558562706,\n   92.74153291985735,\n   274.651436602347],\n  26: [18.474299504256425,\n   274.651436602347,\n   83.4757211038056,\n   299.4320173484234],\n  27: [18.474299504256425,\n   299.4320173484234,\n   646.3601477934936,\n   373.7737595866527],\n  28: [34.0620720281695,\n   299.4320173484234,\n   646.3601477934935,\n   348.99317884057626],\n  29: [50.7110308137593,\n   299.4320173484234,\n   646.3601477934935,\n   348.99317884057626],\n  30: [66.29880333767238,\n   299.4320173484234,\n   97.36484299466593,\n   324.21259809449987],\n  31: [66.29880333767238,\n   324.21259809449987,\n   646.3601477934935,\n   348.99317884057626],\n  32: [82.94776212326217,\n   324.21259809449987,\n   646.3601477934935,\n   348.99317884057626],\n  33: [98.53553464717525,\n   324.21259809449987,\n   646.3601477934935,\n   348.99317884057626],\n  34: [115.18449343276505,\n   324.21259809449987,\n   646.3601477934935,\n   348.99317884057626],\n  35: [130.77226595667813,\n   324.21259809449987,\n   646.3601477934935,\n   348.99317884057626],\n  36: [147.42122474226795,\n   324.21259809449987,\n   646.3601477934935,\n   348.99317884057626],\n  37: [163.00899726618104,\n   324.21259809449987,\n   646.3601477934935,\n   348.99317884057626],\n  38: [179.65795605177084,\n   324.21259809449987,\n   646.3601477934935,\n   348.99317884057626],\n  39: [195.24572857568393,\n   324.21259809449987,\n   646.3601477934935,\n   348.99317884057626],\n  40: [211.89468736127372,\n   324.21259809449987,\n   646.3601477934935,\n   348.99317884057626],\n  41: [227.4824598851868,\n   324.21259809449987,\n   646.3601477934936,\n   348.99317884057626],\n  42: [244.1314186707766,\n   324.21259809449987,\n   646.3601477934936,\n   348.99317884057626],\n  43: [259.7191911946897,\n   324.21259809449987,\n   646.3601477934936,\n   348.99317884057626],\n  44: [276.3681499802795,\n   324.21259809449987,\n   646.3601477934936,\n   348.99317884057626],\n  45: [291.95592250419253,\n   324.21259809449987,\n   646.3601477934936,\n   348.99317884057626],\n  46: [308.6048812897824,\n   324.21259809449987,\n   646.3601477934936,\n   348.99317884057626],\n  47: [324.1926538136954,\n   324.21259809449987,\n   646.3601477934936,\n   348.99317884057626],\n  48: [340.8416125992852,\n   324.21259809449987,\n   646.3601477934936,\n   348.99317884057626],\n  49: [356.42938512319824,\n   324.21259809449987,\n   646.3601477934936,\n   348.99317884057626],\n  50: [373.0783439087881,\n   324.21259809449987,\n   646.3601477934936,\n   348.99317884057626],\n  51: [388.66611643270113,\n   324.21259809449987,\n   646.3601477934936,\n   348.99317884057626],\n  52: [405.31507521829093,\n   324.21259809449987,\n   646.3601477934936,\n   348.99317884057626],\n  53: [420.902847742204,\n   324.21259809449987,\n   646.3601477934935,\n   348.99317884057626],\n  54: [437.5518065277938,\n   324.21259809449987,\n   646.3601477934935,\n   348.99317884057626],\n  55: [453.13957905170685,\n   324.21259809449987,\n   646.3601477934935,\n   348.99317884057626],\n  56: [469.78853783729664,\n   324.21259809449987,\n   646.3601477934935,\n   348.99317884057626],\n  57: [485.37631036120973,\n   324.21259809449987,\n   646.3601477934935,\n   348.99317884057626],\n  58: [502.02526914679953,\n   324.21259809449987,\n   646.3601477934935,\n   348.99317884057626],\n  59: [517.6130416707126,\n   324.21259809449987,\n   646.3601477934935,\n   348.99317884057626],\n  60: [534.2620004563023,\n   324.21259809449987,\n   646.3601477934934,\n   348.99317884057626],\n  61: [549.8497729802154,\n   324.21259809449987,\n   646.3601477934935,\n   348.99317884057626],\n  62: [566.4987317658052,\n   324.21259809449987,\n   646.3601477934935,\n   348.99317884057626],\n  63: [577.3901906210212,\n   324.21259809449987,\n   646.3601477934934,\n   348.99317884057626],\n  64: [594.039149406611,\n   324.21259809449987,\n   646.3601477934934,\n   348.99317884057626],\n  65: [604.9306082618272,\n   324.21259809449987,\n   646.3601477934934,\n   348.99317884057626],\n  66: [34.0620720281695,\n   348.99317884057626,\n   72.08226846381051,\n   373.7737595866527],\n  67: [18.474299504256425,\n   373.7737595866527,\n   55.997770455708334,\n   398.5543403327291],\n  68: [8.260193582025476,\n   398.5543403327291,\n   100.95142677482227,\n   448.11550182488196],\n  69: [41.75266196784581,\n   398.5543403327291,\n   100.95142677482227,\n   423.33492107880556],\n  70: [41.75266196784581,\n   423.33492107880556,\n   94.8413270121113,\n   448.11550182488196],\n  71: [54.99227765741039,\n   423.33492107880556,\n   94.84132701211128,\n   448.11550182488196],\n  72: [8.260193582025476,\n   448.11550182488196,\n   52.93061602656895,\n   472.8960825709584],\n  73: [8.260193582025476,\n   472.8960825709584,\n   62.64448426421753,\n   497.6766633170348],\n  74: [14.884328959435173,\n   472.8960825709584,\n   62.64448426421753,\n   497.6766633170348],\n  75: [31.23976814073141,\n   472.8960825709584,\n   62.64448426421753,\n   497.6766633170348],\n  76: [8.260193582025476,\n   497.6766633170348,\n   71.00377207162417,\n   522.4572440631113],\n  77: [8.260193582025476,\n   522.4572440631113,\n   111.24719135619641,\n   572.018405555264],\n  78: [52.04842654921997,\n   522.4572440631113,\n   107.82392489432651,\n   547.2378248091877],\n  79: [68.69738533480977,\n   522.4572440631113,\n   107.82392489432652,\n   547.2378248091877],\n  80: [52.04842654921997,\n   547.2378248091877,\n   111.24719135619641,\n   572.018405555264],\n  81: [8.260193582025476,\n   572.018405555264,\n   49.6897331136917,\n   596.7989863013405],\n  82: [8.260193582025476,\n   596.7989863013405,\n   39.32623323901903,\n   621.579567047417],\n  83: [8.260193582025476,\n   621.579567047417,\n   58.292115362603006,\n   646.3601477934933],\n  84: [8.260193582025476,\n   646.3601477934933,\n   88.58710159754848,\n   720.7018900317227],\n  85: [28.49912291243653,\n   646.3601477934933,\n   88.58710159754848,\n   671.1407285395697],\n  86: [43.567591521061,\n   646.3601477934933,\n   88.58710159754848,\n   671.1407285395697],\n  87: [28.49912291243653,\n   671.1407285395697,\n   72.64672924129813,\n   695.9213092856462],\n  88: [35.12325828984623,\n   671.1407285395697,\n   72.64672924129813,\n   695.9213092856462],\n  89: [28.49912291243653,\n   695.9213092856462,\n   65.23234877540578,\n   720.7018900317227],\n  90: [8.260193582025476,\n   720.7018900317227,\n   43.27745868143236,\n   745.482470777799],\n  91: [8.260193582025476,\n   745.482470777799,\n   66.60097800722075,\n   770.2630515238754],\n  92: [8.260193582025476,\n   770.2630515238754,\n   64.56891920826533,\n   795.0436322699519],\n  93: [8.260193582025476,\n   795.0436322699519,\n   68.2943603396836,\n   819.8242130160284],\n  94: [8.260193582025476,\n   819.8242130160284,\n   59.03720358888666,\n   844.6047937621047],\n  95: [8.260193582025476,\n   844.6047937621047,\n   59.48877221087676,\n   869.3853745081811],\n  96: [8.260193582025476,\n   869.3853745081811,\n   81.69202504694472,\n   894.1659552542576],\n  97: [40.26248551527849,\n   869.3853745081811,\n   81.69202504694472,\n   894.1659552542576],\n  98: [8.260193582025476,\n   894.1659552542576,\n   44.99341944499472,\n   918.946536000334],\n  99: [8.260193582025476,\n   918.946536000334,\n   39.55201755001408,\n   943.7271167464104],\n  100: [8.260193582025476,\n   943.7271167464104,\n   80.31298464967831,\n   968.5076974924868]}}"
     },
     "execution_count": 74,
     "metadata": {},
     "output_type": "execute_result"
    }
   ],
   "source": [
    "t.render(\"mytree.png\", w=183, units=\"mm\")"
   ],
   "metadata": {
    "collapsed": false,
    "ExecuteTime": {
     "end_time": "2023-06-01T16:12:16.313990Z",
     "start_time": "2023-06-01T16:12:16.190684Z"
    }
   }
  },
  {
   "cell_type": "code",
   "execution_count": 134,
   "outputs": [],
   "source": [
    "color_poster_map = dict()\n",
    "for i, color in enumerate(color_list):\n",
    "    color_poster_map[df_test['poster_id'].value_counts().index.tolist()[i]] = color\n"
   ],
   "metadata": {
    "collapsed": false,
    "ExecuteTime": {
     "end_time": "2023-06-01T16:44:45.868289Z",
     "start_time": "2023-06-01T16:44:45.842342Z"
    }
   }
  },
  {
   "cell_type": "code",
   "execution_count": 135,
   "outputs": [
    {
     "data": {
      "text/plain": "{3023: '#1f77b4',\n 1756: '#ff7f0e',\n 742: '#2ca02c',\n 880: '#d62728',\n 139: '#9467bd',\n 462: '#8c564b',\n 117: '#e377c2',\n 223: '#7f7f7f',\n 262: '#bcbd22',\n 116: '#17becf'}"
     },
     "execution_count": 135,
     "metadata": {},
     "output_type": "execute_result"
    }
   ],
   "source": [
    "color_poster_map"
   ],
   "metadata": {
    "collapsed": false,
    "ExecuteTime": {
     "end_time": "2023-06-01T16:44:50.536217Z",
     "start_time": "2023-06-01T16:44:50.519826Z"
    }
   }
  },
  {
   "cell_type": "code",
   "execution_count": 117,
   "outputs": [
    {
     "data": {
      "text/plain": "[3023,\n 1756,\n 742,\n 880,\n 139,\n 462,\n 117,\n 223,\n 262,\n 116,\n 1758,\n 169,\n 720,\n 55,\n 467,\n 270,\n 342,\n 277,\n 340,\n 1242,\n 123,\n 411,\n 1476,\n 232]"
     },
     "execution_count": 117,
     "metadata": {},
     "output_type": "execute_result"
    }
   ],
   "source": [
    "df_test['poster_id'].value_counts().index.tolist()"
   ],
   "metadata": {
    "collapsed": false,
    "ExecuteTime": {
     "end_time": "2023-06-01T16:35:15.028727Z",
     "start_time": "2023-06-01T16:35:15.021162Z"
    }
   }
  },
  {
   "cell_type": "code",
   "execution_count": 132,
   "outputs": [
    {
     "data": {
      "text/plain": "['#1f77b4',\n '#ff7f0e',\n '#2ca02c',\n '#d62728',\n '#9467bd',\n '#8c564b',\n '#e377c2',\n '#7f7f7f',\n '#bcbd22',\n '#17becf']"
     },
     "execution_count": 132,
     "metadata": {},
     "output_type": "execute_result"
    }
   ],
   "source": [
    "import seaborn as sns\n",
    "\n",
    "# Generate a palette with 20 distinct colors\n",
    "palette = sns.color_palette()\n",
    "\n",
    "# Print the colors in web standard RGB format\n",
    "color_list = []\n",
    "for color in palette:\n",
    "    rgb = ''.join([f'{int(x * 255):02x}' for x in color])\n",
    "    color_list.append('#' + rgb)\n",
    "color_list"
   ],
   "metadata": {
    "collapsed": false,
    "ExecuteTime": {
     "end_time": "2023-06-01T16:42:57.229257Z",
     "start_time": "2023-06-01T16:42:57.203804Z"
    }
   }
  },
  {
   "cell_type": "code",
   "execution_count": 129,
   "outputs": [
    {
     "data": {
      "text/plain": "[(0.12156862745098039, 0.4666666666666667, 0.7058823529411765),\n (1.0, 0.4980392156862745, 0.054901960784313725),\n (0.17254901960784313, 0.6274509803921569, 0.17254901960784313),\n (0.8392156862745098, 0.15294117647058825, 0.1568627450980392),\n (0.5803921568627451, 0.403921568627451, 0.7411764705882353),\n (0.5490196078431373, 0.33725490196078434, 0.29411764705882354),\n (0.8901960784313725, 0.4666666666666667, 0.7607843137254902),\n (0.4980392156862745, 0.4980392156862745, 0.4980392156862745),\n (0.7372549019607844, 0.7411764705882353, 0.13333333333333333),\n (0.09019607843137255, 0.7450980392156863, 0.8117647058823529)]",
      "text/html": "<svg  width=\"550\" height=\"55\"><rect x=\"0\" y=\"0\" width=\"55\" height=\"55\" style=\"fill:#1f77b4;stroke-width:2;stroke:rgb(255,255,255)\"/><rect x=\"55\" y=\"0\" width=\"55\" height=\"55\" style=\"fill:#ff7f0e;stroke-width:2;stroke:rgb(255,255,255)\"/><rect x=\"110\" y=\"0\" width=\"55\" height=\"55\" style=\"fill:#2ca02c;stroke-width:2;stroke:rgb(255,255,255)\"/><rect x=\"165\" y=\"0\" width=\"55\" height=\"55\" style=\"fill:#d62728;stroke-width:2;stroke:rgb(255,255,255)\"/><rect x=\"220\" y=\"0\" width=\"55\" height=\"55\" style=\"fill:#9467bd;stroke-width:2;stroke:rgb(255,255,255)\"/><rect x=\"275\" y=\"0\" width=\"55\" height=\"55\" style=\"fill:#8c564b;stroke-width:2;stroke:rgb(255,255,255)\"/><rect x=\"330\" y=\"0\" width=\"55\" height=\"55\" style=\"fill:#e377c2;stroke-width:2;stroke:rgb(255,255,255)\"/><rect x=\"385\" y=\"0\" width=\"55\" height=\"55\" style=\"fill:#7f7f7f;stroke-width:2;stroke:rgb(255,255,255)\"/><rect x=\"440\" y=\"0\" width=\"55\" height=\"55\" style=\"fill:#bcbd22;stroke-width:2;stroke:rgb(255,255,255)\"/><rect x=\"495\" y=\"0\" width=\"55\" height=\"55\" style=\"fill:#17becf;stroke-width:2;stroke:rgb(255,255,255)\"/></svg>"
     },
     "execution_count": 129,
     "metadata": {},
     "output_type": "execute_result"
    }
   ],
   "source": [
    "sns.color_palette()\n",
    "# sns.color_palette(\"husl\", 8)"
   ],
   "metadata": {
    "collapsed": false,
    "ExecuteTime": {
     "end_time": "2023-06-01T16:42:25.064667Z",
     "start_time": "2023-06-01T16:42:24.993365Z"
    }
   }
  },
  {
   "cell_type": "code",
   "execution_count": null,
   "outputs": [],
   "source": [],
   "metadata": {
    "collapsed": false
   }
  }
 ],
 "metadata": {
  "kernelspec": {
   "display_name": "ete3",
   "language": "python",
   "name": "python3"
  },
  "language_info": {
   "name": "python",
   "version": "3.11.3"
  },
  "orig_nbformat": 4
 },
 "nbformat": 4,
 "nbformat_minor": 2
}
